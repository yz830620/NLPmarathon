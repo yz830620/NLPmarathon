{
 "cells": [
  {
   "cell_type": "markdown",
   "metadata": {},
   "source": [
    "## 作業目標: 透過思考與回答以更加了解計數方法的詞向量"
   ]
  },
  {
   "cell_type": "code",
   "execution_count": 8,
   "metadata": {},
   "outputs": [
    {
     "output_type": "stream",
     "name": "stdout",
     "text": [
      "(6, 6) (5,) (5, 5)\n"
     ]
    },
    {
     "output_type": "execute_result",
     "data": {
      "text/plain": [
       "array([[-1.12749978e-01,  1.35680211e-01, -2.00765770e-01,\n",
       "         9.62536504e-01, -4.57701445e-02, -1.82263762e-17],\n",
       "       [-2.25499956e-01,  2.71360421e-01, -4.01531540e-01,\n",
       "        -1.08561878e-01,  8.38152750e-01,  1.09272402e-16],\n",
       "       [-3.38249933e-01,  4.07040632e-01, -6.02297310e-01,\n",
       "        -2.48470916e-01, -5.43511785e-01, -4.52497088e-17],\n",
       "       [-6.81829458e-01,  3.68470135e-01,  6.31932235e-01,\n",
       "         6.66133815e-16, -1.38777878e-17, -1.29138604e-17],\n",
       "       [-2.67257473e-01, -3.48282094e-01, -8.52820365e-02,\n",
       "        -1.11022302e-16,  5.55111512e-17, -8.94427191e-01],\n",
       "       [-5.34514947e-01, -6.96564188e-01, -1.70564073e-01,\n",
       "        -2.22044605e-16, -1.11022302e-16,  4.47213595e-01]])"
      ]
     },
     "metadata": {},
     "execution_count": 8
    }
   ],
   "source": [
    "import numpy as np\n",
    "data = np.array( \n",
    "[[1, 1, 1, 0, 0], \n",
    "[2, 2, 2, 0, 0], \n",
    "[3, 3, 3, 0, 0], \n",
    "[5, 5, 3, 2, 2], \n",
    "[0, 0, 0, 3, 3], \n",
    "[0, 0, 0, 6, 6]])\n",
    "u, sigma, vt = np.linalg.svd(data)   #SVD分解\n",
    "print(u.shape, sigma.shape, vt.shape)\n",
    "u"
   ]
  },
  {
   "cell_type": "markdown",
   "metadata": {},
   "source": [
    "### 請問詞庫手法會有什麼樣的優缺點？\n",
    "\n",
    "詞庫手法為創建包含大量字詞的詞庫，將相同意思字詞(同義字)或相似意思字詞(相似字)分類在相同群組。\n",
    "\n",
    "優點:\n",
    "因為是人工可以準確的將系統性知識用樹狀結構收納好\n",
    "\n",
    "缺點:\n",
    "由於是人工耗時費力難維護，對新詞辨識能力幾乎沒有"
   ]
  },
  {
   "cell_type": "markdown",
   "metadata": {},
   "source": [
    "### 請問共現矩陣有什麼樣的優缺點？ \n",
    "\n",
    "根據分佈假說，相似的字詞會有類似的上下文，因此我們可以透過計數周圍(window)的字詞來表達特定字詞的向量。\n",
    "\n",
    "優點:\n",
    "可以找出臨近字，或者有相似鄰近字的字\n",
    "\n",
    "缺點:\n",
    "1.占空間\n",
    "2.對頻繁字的敏感度很差勁"
   ]
  },
  {
   "cell_type": "markdown",
   "metadata": {},
   "source": [
    "### 請問為何需要對共現矩陣或PPMI進行SVD降維?\n",
    "\n",
    "1. 簡單來說因為辭典太大，太佔記憶體\n",
    "2. 說詳細一點是因為太多維的特徵需要用更多參數的模型來描述，而更多參數的模型又需要更多的資料量來訓練，一來一往就會無以復加的難以收斂\n",
    "\n",
    "使用PPMI可以抑制頻繁字的雜訊，同時也考慮到不共現的字的log負無限大問題\n",
    "\n",
    "使用SVD降維可以將辭典共現矩陣變小，唯獨辭典的特徵不再具解釋性，如同ＰＣＡ變換一樣。"
   ]
  },
  {
   "cell_type": "markdown",
   "metadata": {},
   "source": [
    "維### 實作cosine similarity\n",
    "\n",
    "在比較兩個詞向量的相似度時可以使用cosine similarity:\n",
    "$$\n",
    "similarity(x,y) = \\frac{x \\cdot y}{||x||||y||} = \\frac{x_1y_1+...+x_ny_n}{\\sqrt{x_1^2+...+x_n^2}\\sqrt{y_1^2+...+y_n^2}}\n",
    "$$\n",
    "\n",
    "請實作cosine similarity並計算共現矩陣課程範例中you向量([0,1,0,0,0,0,0])與I([0,1,0,1,0,0,0])向量的相似度"
   ]
  },
  {
   "cell_type": "code",
   "execution_count": 2,
   "metadata": {},
   "outputs": [
    {
     "output_type": "stream",
     "name": "stdout",
     "text": [
      "Similarity: 0.7071067758832467\n"
     ]
    }
   ],
   "source": [
    "import numpy as np\n",
    "I = np.array([0,1,0,0,0,0,0])\n",
    "You = np.array([0,1,0,1,0,0,0])\n",
    "\n",
    "def cos_similarity(x, y, eps=1e-8):\n",
    "    len_x = np.sqrt(np.sum(x**2)+ eps)\n",
    "    len_y = np.sqrt(np.sum(y**2)+ eps)\n",
    "    return x.dot(y)/ (len_x * len_y)\n",
    "\n",
    "print(f\"Similarity: {cos_similarity(I, You)}\")"
   ]
  },
  {
   "source": [],
   "cell_type": "markdown",
   "metadata": {}
  }
 ],
 "metadata": {
  "kernelspec": {
   "name": "python3",
   "display_name": "Python 3"
  },
  "language_info": {
   "codemirror_mode": {
    "name": "ipython",
    "version": 3
   },
   "file_extension": ".py",
   "mimetype": "text/x-python",
   "name": "python",
   "nbconvert_exporter": "python",
   "pygments_lexer": "ipython3",
   "version": "3.8.6-final"
  }
 },
 "nbformat": 4,
 "nbformat_minor": 2
}