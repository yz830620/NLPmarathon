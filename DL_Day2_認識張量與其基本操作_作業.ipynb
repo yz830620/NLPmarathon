{
 "cells": [
  {
   "cell_type": "markdown",
   "metadata": {},
   "source": [
    "### 作業目的: 更加熟習pytorch的tensor操作\n",
    "\n",
    "pytorch中有提供很多的API，讓使用者針對tensor進行各式各樣的操作，本次的作業希望讀者由pytorch的[官方網站](https://pytorch.org/docs/stable/torch.html)中選定四個針對tensor操作的API，對他的使用方法進行範例操作演練。"
   ]
  },
  {
   "cell_type": "markdown",
   "metadata": {},
   "source": [
    "### 選定的API 函數\n",
    "\n",
    "**請寫下選定的API functions**\n",
    "\n",
    "ex:\n",
    "* torch.from_array() / tensor.numpy()\n",
    "* torch.unsqueeze() / torch.squeeze()\n",
    "* tensor.transpose() / tensor.permute()\n",
    "* torch.reshape() / tensor.view()\n",
    "\n",
    "squeeze\n",
    "vstack"
   ]
  },
  {
   "cell_type": "code",
   "execution_count": 1,
   "metadata": {},
   "outputs": [],
   "source": [
    "# Import torch and other required modules\n",
    "import torch\n",
    "import numpy as np"
   ]
  },
  {
   "cell_type": "markdown",
   "metadata": {},
   "source": [
    "### 範例:\n",
    "### Function 1 - torch.from_array() / tensor.numpy()"
   ]
  },
  {
   "cell_type": "code",
   "execution_count": 2,
   "metadata": {},
   "outputs": [
    {
     "output_type": "stream",
     "name": "stdout",
     "text": [
      "a: <class 'numpy.ndarray'>, float64\nb: <class 'torch.Tensor'>, torch.float64\nc: <class 'torch.Tensor'>, torch.float64\nd: <class 'numpy.ndarray'>, float64\n"
     ]
    }
   ],
   "source": [
    "# Example 1 - 將torch tensor與numpy ndarray互相轉換\n",
    "a = np.random.rand(1,2,3,3)\n",
    "print(f'a: {type(a)}, {a.dtype}')\n",
    "b = torch.from_numpy(a)\n",
    "print(f'b: {type(b)}, {b.dtype}')\n",
    "c = torch.tensor(a)\n",
    "print(f'c: {type(c)}, {c.dtype}')\n",
    "d = c.numpy()\n",
    "print(f'd: {type(d)}, {d.dtype}')"
   ]
  },
  {
   "cell_type": "code",
   "execution_count": 3,
   "metadata": {},
   "outputs": [
    {
     "output_type": "stream",
     "name": "stdout",
     "text": [
      "a: <class 'numpy.ndarray'>, int32\nb: <class 'torch.Tensor'>, torch.int32\nc: <class 'torch.Tensor'>, torch.int32\nd: <class 'numpy.ndarray'>, int32\n"
     ]
    }
   ],
   "source": [
    "# Example 2 - 經過轉換後，torch tensor與numpy array依然有相近的資料型態\n",
    "a = np.random.randint(low=0, high=10, size=(2,2))\n",
    "print(f'a: {type(a)}, {a.dtype}')\n",
    "b = torch.from_numpy(a)\n",
    "print(f'b: {type(b)}, {b.dtype}')\n",
    "c = torch.tensor(a)\n",
    "print(f'c: {type(c)}, {c.dtype}')\n",
    "d = c.numpy()\n",
    "print(f'd: {type(d)}, {d.dtype}')"
   ]
  },
  {
   "cell_type": "markdown",
   "metadata": {},
   "source": [
    "### Function 1 - *your function to illustrate*\n",
    "torch.unsqueeze() / torch.squeeze()"
   ]
  },
  {
   "cell_type": "code",
   "execution_count": 9,
   "metadata": {},
   "outputs": [
    {
     "output_type": "stream",
     "name": "stdout",
     "text": [
      "torch.Size([2, 2, 3])\ntensor([[[1, 2, 3],\n         [3, 4, 5]],\n\n        [[5, 6, 7],\n         [7, 8, 9]]])\ntorch.Size([2, 2, 1, 3])\ntensor([[[[1, 2, 3]],\n\n         [[3, 4, 5]]],\n\n\n        [[[5, 6, 7]],\n\n         [[7, 8, 9]]]])\n"
     ]
    }
   ],
   "source": [
    "# Example 1 - ### your explanation ###\n",
    "a = torch.tensor([[[1, 2, 3], [3, 4, 5]],[[5, 6, 7], [7, 8, 9]]])\n",
    "print(a.shape)\n",
    "print(a)\n",
    "b = a.unsqueeze(2)\n",
    "print(b.shape)\n",
    "print(b)"
   ]
  },
  {
   "cell_type": "code",
   "execution_count": 29,
   "metadata": {},
   "outputs": [
    {
     "output_type": "stream",
     "name": "stdout",
     "text": [
      "torch.Size([2, 2, 3])\ntensor([[[1, 2, 3],\n         [3, 4, 5]],\n\n        [[5, 6, 7],\n         [7, 8, 9]]])\ntorch.Size([2, 2, 1, 3])\ntensor([[[[1, 2, 3]],\n\n         [[3, 4, 5]]],\n\n\n        [[[5, 6, 7]],\n\n         [[7, 8, 9]]]])\ntorch.Size([2, 1, 1, 6])\ntensor([[1, 2, 3, 3, 4, 5],\n        [5, 6, 7, 7, 8, 9]])\n"
     ]
    }
   ],
   "source": [
    "c = b.squeeze(2)\n",
    "print(c.shape)\n",
    "print(c)\n",
    "#squeeze 只能對只有one dim的施作\n",
    "d = b.squeeze(1)\n",
    "print(d.shape)\n",
    "print(d)\n",
    "e = b.view(2,1,1,-1)\n",
    "print(e.shape)\n",
    "print(e.squeeze(2).squeeze(1))"
   ]
  },
  {
   "cell_type": "markdown",
   "metadata": {},
   "source": [
    "### Function 2 - your function to illustrate\n",
    "squeeze\n"
   ]
  },
  {
   "cell_type": "code",
   "execution_count": 33,
   "metadata": {},
   "outputs": [
    {
     "output_type": "execute_result",
     "data": {
      "text/plain": [
       "tensor([[1, 2, 3],\n",
       "        [4, 5, 6]])"
      ]
     },
     "metadata": {},
     "execution_count": 33
    }
   ],
   "source": [
    "# Example 1 - ### your explanation ###\n",
    "a = torch.tensor([1, 2, 3])\n",
    "b = torch.tensor([4, 5, 6])\n",
    "torch.vstack((a,b))\n"
   ]
  },
  {
   "cell_type": "code",
   "execution_count": 34,
   "metadata": {},
   "outputs": [
    {
     "output_type": "execute_result",
     "data": {
      "text/plain": [
       "tensor([[1],\n",
       "        [2],\n",
       "        [3],\n",
       "        [4],\n",
       "        [5],\n",
       "        [6]])"
      ]
     },
     "metadata": {},
     "execution_count": 34
    }
   ],
   "source": [
    "# Example 2 - ### your explanation ###\n",
    "a = torch.tensor([[1],[2],[3]])\n",
    "b = torch.tensor([[4],[5],[6]])\n",
    "torch.vstack((a,b))"
   ]
  },
  {
   "cell_type": "markdown",
   "metadata": {},
   "source": [
    "### Function 3 - your function to illustrate"
   ]
  },
  {
   "cell_type": "code",
   "execution_count": 35,
   "metadata": {},
   "outputs": [
    {
     "output_type": "execute_result",
     "data": {
      "text/plain": [
       "tensor([4, 5, 8])"
      ]
     },
     "metadata": {},
     "execution_count": 35
    }
   ],
   "source": [
    "# Example 1 - ### your explanation ###\n",
    "src = torch.tensor([[4, 3, 5],\n",
    "                        [6, 7, 8]])\n",
    "torch.take(src, torch.tensor([0, 2, 5]))"
   ]
  },
  {
   "cell_type": "code",
   "execution_count": 47,
   "metadata": {},
   "outputs": [
    {
     "output_type": "execute_result",
     "data": {
      "text/plain": [
       "tensor([4, 5, 8])"
      ]
     },
     "metadata": {},
     "execution_count": 47
    }
   ],
   "source": [
    "# Example 2 - ### your explanation ###\n",
    "tak = torch.tensor([src.reshape(-1)[0], src.reshape(-1)[2] , src.reshape(-1)[5]])\n",
    "\n",
    "tak"
   ]
  },
  {
   "cell_type": "markdown",
   "metadata": {},
   "source": [
    "### Function 4 - your function to illustrate"
   ]
  },
  {
   "cell_type": "code",
   "execution_count": 50,
   "metadata": {},
   "outputs": [
    {
     "output_type": "execute_result",
     "data": {
      "text/plain": [
       "(torch.Size([2, 3]),\n",
       " tensor([[ 0.1620,  0.8380,  0.4707],\n",
       "         [ 1.6173, -1.4922, -1.3101]]))"
      ]
     },
     "metadata": {},
     "execution_count": 50
    }
   ],
   "source": [
    "# Example 1 - ### your explanation ###\n",
    "x = torch.randn(2, 3)\n",
    "x.shape,x"
   ]
  },
  {
   "cell_type": "code",
   "execution_count": 51,
   "metadata": {},
   "outputs": [
    {
     "output_type": "execute_result",
     "data": {
      "text/plain": [
       "(torch.Size([3, 2]),\n",
       " tensor([[ 0.1620,  1.6173],\n",
       "         [ 0.8380, -1.4922],\n",
       "         [ 0.4707, -1.3101]]))"
      ]
     },
     "metadata": {},
     "execution_count": 51
    }
   ],
   "source": [
    "# Example 2 - ### your explanation ###\n",
    "y = torch.transpose(x, 0, 1)\n",
    "y.shape, y"
   ]
  },
  {
   "cell_type": "code",
   "execution_count": null,
   "metadata": {},
   "outputs": [],
   "source": []
  }
 ],
 "metadata": {
  "kernelspec": {
   "name": "python3",
   "display_name": "Python 3.7.3 64-bit ('tf21g': conda)",
   "metadata": {
    "interpreter": {
     "hash": "bce34ad92f12188bdbde6c4d0d0df6759e2da82e2ea2ad01676467783730534f"
    }
   }
  },
  "language_info": {
   "codemirror_mode": {
    "name": "ipython",
    "version": 3
   },
   "file_extension": ".py",
   "mimetype": "text/x-python",
   "name": "python",
   "nbconvert_exporter": "python",
   "pygments_lexer": "ipython3",
   "version": "3.7.3-final"
  }
 },
 "nbformat": 4,
 "nbformat_minor": 2
}