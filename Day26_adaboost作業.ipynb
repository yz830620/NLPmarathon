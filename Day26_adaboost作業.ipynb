{
 "cells": [
  {
   "cell_type": "markdown",
   "metadata": {},
   "source": [
    "### 作業目的:了解Ensemble中的Blending與Stacking"
   ]
  },
  {
   "cell_type": "markdown",
   "metadata": {},
   "source": [
    "### Question: 請描述Blending與Stacking的差異\n",
    "\n",
    "## Answer:\n",
    "### Stacking\n",
    " 使用 kfoldCV來進行第二階段模型的特徵抽取，而且是只針對每一次保留的val_set去進行預測proba留存，並將之與模型的ground_truth一起訓練二階段模型\n",
    "\n",
    "### blending \n",
    "只需要一開始設定好預留的validation set(holdout set)即可完成一樣的事情，計算量更少更簡單，分享更簡便，但可能會對holdout set overfitting是需要注意的地方"
   ]
  },
  {
   "cell_type": "code",
   "execution_count": null,
   "metadata": {},
   "outputs": [],
   "source": [
    "from sklearn.model_selection import StratifiedKFold"
   ]
  },
  {
   "cell_type": "code",
   "execution_count": 1,
   "metadata": {},
   "outputs": [],
   "source": [
    "def Stacking(model,train,y,test,n_fold):\n",
    "  folds=StratifiedKFold(n_splits=n_fold,random_state=1)\n",
    "  test_pred=np.empty((test.shape[0],1),float)\n",
    "  train_pred=np.empty((0,1),float)\n",
    "  \n",
    "  for train_indices,val_indices in folds.split(train,y.values):\n",
    "    x_train,x_val=train.iloc[train_indices],train.iloc[val_indices]\n",
    "    y_train,y_val=y.iloc[train_indices],y.iloc[val_indices]\n",
    "    model.fit(X=x_train,y=y_train)\n",
    "    train_pred=np.append(train_pred,model.predict(x_val))\n",
    "    test_pred=np.append(test_pred,model.predict(test))\n",
    "    \n",
    "  return test_pred.reshape(-1,1),train_pred"
   ]
  },
  {
   "cell_type": "code",
   "execution_count": null,
   "metadata": {},
   "outputs": [],
   "source": [
    "# initialise the base models\n",
    "model_1 = tree.DecisionTreeClassifier(random_state=1)\n",
    "model_2 = KNeighborsClassifier()\n",
    "\n",
    "# train base models and create new featurs\n",
    "test_pred_1 ,train_pred_1=Stacking(model=model_1,n_fold=10, train=x_train,test=x_test,y=y_train)\n",
    "test_pred_2 ,train_pred_2=Stacking(model=model_2,n_fold=10,train=x_train,test=x_test,y=y_train)\n",
    "\n",
    "# convert into dataframe for later use\n",
    "train_pred_1=pd.DataFrame(train_pred_1)\n",
    "test_pred_1=pd.DataFrame(test_pred_1)\n",
    "train_pred_2=pd.DataFrame(train_pred_2)\n",
    "test_pred_2=pd.DataFrame(test_pred_2)"
   ]
  },
  {
   "cell_type": "code",
   "execution_count": null,
   "metadata": {},
   "outputs": [],
   "source": [
    "df = pd.concat([train_pred_1, train_pred_2], axis=1)\n",
    "df_test = pd.concat([test_pred_1, test_pred_2], axis=1)\n",
    "\n",
    "model = LogisticRegression(random_state=1)\n",
    "model.fit(df,y_train)\n",
    "model.score(df_test, y_test)"
   ]
  },
  {
   "cell_type": "code",
   "execution_count": null,
   "metadata": {},
   "outputs": [],
   "source": [
    "model_1 = tree.DecisionTreeClassifier()\n",
    "model_1.fit(x_train, y_train)\n",
    "holdout_pred_1=model_1.predict(x_val)\n",
    "test_pred_1=model_1.predict(x_test)\n",
    "holdout_pred_1=pd.DataFrame(holdout_pred_1)\n",
    "test_pred1=pd.DataFrame(test_pred1)\n",
    "\n",
    "model_2 = KNeighborsClassifier()\n",
    "model_2.fit(x_train,y_train)\n",
    "holdout_pred_2=model_2.predict(x_val)\n",
    "test_pred_2=model_2.predict(x_test)\n",
    "holdout_pred_2=pd.DataFrame(holdout_pred_2)\n",
    "test_pred_2=pd.DataFrame(test_pred_2)"
   ]
  },
  {
   "cell_type": "code",
   "execution_count": null,
   "metadata": {},
   "outputs": [],
   "source": [
    "df_holdout=pd.concat([x_val, holdout_pred_1,holdout_pred_2],axis=1)\n",
    "df_test=pd.concat([x_test, test_pred_1,test_pred_2],axis=1)\n",
    "\n",
    "model = LogisticRegression()\n",
    "model.fit(df_holdout,y_holdout)\n",
    "model.score(df_test,y_test)"
   ]
  }
 ],
 "metadata": {
  "kernelspec": {
   "name": "python3",
   "display_name": "Python 3.6.0 64-bit",
   "metadata": {
    "interpreter": {
     "hash": "05ece30799c2dcdac4c13b3af20453da19de8df0d9a1de52cff7e0b6e1e82bdd"
    }
   }
  },
  "language_info": {
   "codemirror_mode": {
    "name": "ipython",
    "version": 3
   },
   "file_extension": ".py",
   "mimetype": "text/x-python",
   "name": "python",
   "nbconvert_exporter": "python",
   "pygments_lexer": "ipython3",
   "version": "3.6.0-final"
  }
 },
 "nbformat": 4,
 "nbformat_minor": 2
}