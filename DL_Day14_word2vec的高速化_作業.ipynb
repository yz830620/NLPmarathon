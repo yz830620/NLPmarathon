{
 "cells": [
  {
   "cell_type": "markdown",
   "metadata": {},
   "source": [
    "### 作業目的: 更加了解word2vec高速化\n",
    "本次作業主要是幫同學更熟悉與了解透過各項技巧來加速word2vec的原理，同學可以參考章節講義來回答下列問題。"
   ]
  },
  {
   "cell_type": "markdown",
   "metadata": {},
   "source": [
    "### Q1 - 請問word2vec原本的設計有何問題以及可以怎麼對相對應的問題做改善?\n",
    "\n",
    "\n",
    "Answer:\n",
    "\n",
    "真實世界的單字量很大，如英文約有十萬個單字，如果把每個input皆onehot 成一個十萬維的向量會導自計算量過高\n",
    "因此前端可以採用embedding layer的方式只關注於需要計算值就好\n",
    "至於輸出端的loss計算需要過sigmoid還是計算量很大，這時就需要使用負採樣的方式，來將計算控制在一定的數量之內(可能取10個非label的單詞來進行負採樣)\n",
    "以及另一個階層式的方式可以把對高維的cross-entropy問題簡化為log2N的binary classification問題，也大大減輕了計算負擔\n",
    "\n"
   ]
  },
  {
   "cell_type": "markdown",
   "metadata": {},
   "source": [
    "### Q2 - 請問在Negative Sampling中的次方係數，會如何影響字詞的抽取?\n",
    "Hint: 如何影響高頻詞與低頻詞的抽取機率\n",
    "\n",
    "Answer:\n",
    "數字越小(ex 0.75 -> 0.6)會消除高頻字的影響性，讓每個字影響力更均勻"
   ]
  },
  {
   "cell_type": "code",
   "execution_count": null,
   "metadata": {},
   "outputs": [],
   "source": []
  }
 ],
 "metadata": {
  "kernelspec": {
   "display_name": "pytorch_env",
   "language": "python",
   "name": "pytorch_env"
  },
  "language_info": {
   "codemirror_mode": {
    "name": "ipython",
    "version": 3
   },
   "file_extension": ".py",
   "mimetype": "text/x-python",
   "name": "python",
   "nbconvert_exporter": "python",
   "pygments_lexer": "ipython3",
   "version": "3.7.3"
  }
 },
 "nbformat": 4,
 "nbformat_minor": 2
}