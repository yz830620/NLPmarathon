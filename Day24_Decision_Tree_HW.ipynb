{
 "cells": [
  {
   "cell_type": "markdown",
   "metadata": {},
   "source": [
    "### 作業目的:了解決策樹的節點分支依據\n",
    "本次作業可參考簡報中的延伸閱讀[訊息增益](https://medium.com/jameslearningnote/%E8%B3%87%E6%96%99%E5%88%86%E6%9E%90-%E6%A9%9F%E5%99%A8%E5%AD%B8%E7%BF%92-%E7%AC%AC3-5%E8%AC%9B-%E6%B1%BA%E7%AD%96%E6%A8%B9-decision-tree-%E4%BB%A5%E5%8F%8A%E9%9A%A8%E6%A9%9F%E6%A3%AE%E6%9E%97-random-forest-%E4%BB%8B%E7%B4%B9-7079b0ddfbda)部分"
   ]
  },
  {
   "cell_type": "markdown",
   "metadata": {},
   "source": [
    "#### Question:\n",
    "若你是決策樹，下列兩種分類狀況(a,b)，你會選擇哪種做分類？為什麼？\n",
    "\n",
    "<img src='hw_1.png' style='width:500px'>"
   ]
  },
  {
   "cell_type": "code",
   "execution_count": 2,
   "metadata": {},
   "outputs": [],
   "source": [
    "import math"
   ]
  },
  {
   "source": [
    "### Answer:\n",
    "ep = -(1/2 * math.log2(1/2) + 1/2 * math.log2(1/2))\n",
    "el = -(3/4 * math.log2(3/4) + 1/4 * math.log2(1/4))\n",
    "er = -(1/4 * math.log2(1/4) + 3/4 * math.log2(3/4))\n",
    "print(ep, el, er)\n",
    "ep - 1/2*el - 1/2*er "
   ],
   "cell_type": "code",
   "metadata": {},
   "execution_count": 8,
   "outputs": [
    {
     "output_type": "stream",
     "name": "stdout",
     "text": [
      "1.0 0.8112781244591328 0.8112781244591328\n"
     ]
    },
    {
     "output_type": "execute_result",
     "data": {
      "text/plain": [
       "0.1887218755408671"
      ]
     },
     "metadata": {},
     "execution_count": 8
    }
   ]
  },
  {
   "cell_type": "code",
   "execution_count": 9,
   "metadata": {},
   "outputs": [
    {
     "output_type": "stream",
     "name": "stdout",
     "text": [
      "1.0 0.9852281360342515 -0.0\n"
     ]
    },
    {
     "output_type": "execute_result",
     "data": {
      "text/plain": [
       "0.13792538097002993"
      ]
     },
     "metadata": {},
     "execution_count": 9
    }
   ],
   "source": [
    "ep = -(1/2 * math.log2(1/2) + 1/2 * math.log2(1/2))\n",
    "el = -(3/7 * math.log2(3/7) + 4/7 * math.log2(4/7))\n",
    "er = -(1 * math.log2(1))\n",
    "print(ep, el, er)\n",
    "ep - 7/8*el - 1/8*er "
   ]
  },
  {
   "cell_type": "code",
   "execution_count": 11,
   "metadata": {},
   "outputs": [
    {
     "output_type": "stream",
     "name": "stdout",
     "text": [
      "0.5 0 0\n"
     ]
    },
    {
     "output_type": "execute_result",
     "data": {
      "text/plain": [
       "0.5"
      ]
     },
     "metadata": {},
     "execution_count": 11
    }
   ],
   "source": [
    "\n",
    "gp = 1 - ((0.5)**2 +(0.5)**2)\n",
    "gl = 1 -\n",
    "gr = 1 -\n",
    "print(gp,gl,gr)\n",
    "gp-gl-gr"
   ]
  },
  {
   "cell_type": "code",
   "execution_count": 18,
   "metadata": {},
   "outputs": [],
   "source": [
    "def single_split_gini(p1,p2,l1,l2,r1,r2):\n",
    "    def get_gini(class1, class2):\n",
    "        return 1 - ((class1/(class1+class2))**2 + (class2/(class1+class2))**2)\n",
    "    ratio = (l1+l2)/(p1+p2)\n",
    "    gp = get_gini(p1,p2)\n",
    "    gl = get_gini(l1,l2)\n",
    "    gr = get_gini(r1,r2)\n",
    "    print(f'original gini: {round(gp,3)},splited_left: {round(gl,3)},splited_right: {round(gr,3)}, result is {round(gp-ratio*gl-(1-ratio)*gr,3)}')\n"
   ]
  },
  {
   "cell_type": "code",
   "execution_count": 19,
   "metadata": {},
   "outputs": [
    {
     "output_type": "stream",
     "name": "stdout",
     "text": [
      "original gini: 0.5,splited_left: 0.49,splited_right: 0.0, result is 0.071\n"
     ]
    }
   ],
   "source": [
    "single_split_gini(20,20,15,20,5,0)"
   ]
  },
  {
   "cell_type": "code",
   "execution_count": 20,
   "metadata": {},
   "outputs": [
    {
     "output_type": "stream",
     "name": "stdout",
     "text": [
      "original gini: 0.5,splited_left: 0.375,splited_right: 0.375, result is 0.125\n"
     ]
    }
   ],
   "source": [
    "single_split_gini(20,20,15,5,5,15)"
   ]
  },
  {
   "source": [
    "依據方案a, 會得到0.189的information gain,依據方案b, 會得到0.138的information gain\n",
    "故選用方案a會是比較好的"
   ],
   "cell_type": "markdown",
   "metadata": {}
  },
  {
   "cell_type": "markdown",
   "metadata": {},
   "source": [
    "### 閱讀作業\n",
    "\n",
    "決策樹根據計算分割準則的不同(ex: Entropy, Gini, Gain ratio)，可分為ID3, C4.5, CART樹的算法，請同學閱讀下列文章，來更加了解決策樹的算法。\n",
    "\n",
    "[決策樹(ID3, C4.5, CART)](https://blog.csdn.net/u010089444/article/details/53241218)"
   ]
  },
  {
   "cell_type": "code",
   "execution_count": null,
   "metadata": {},
   "outputs": [],
   "source": [
    "閱畢，CART需要離散取值,\n",
    "將連續型的資料，用值來當閥值，大於或小於的分屬於兩個類別"
   ]
  }
 ],
 "metadata": {
  "kernelspec": {
   "name": "python3",
   "display_name": "Python 3.8.6 64-bit ('env': venv)",
   "metadata": {
    "interpreter": {
     "hash": "6408420eaebb7569ed582339cc2843b6fc3f9c1969fcaabe7b7c197e7d7fe813"
    }
   }
  },
  "language_info": {
   "codemirror_mode": {
    "name": "ipython",
    "version": 3
   },
   "file_extension": ".py",
   "mimetype": "text/x-python",
   "name": "python",
   "nbconvert_exporter": "python",
   "pygments_lexer": "ipython3",
   "version": "3.8.6-final"
  }
 },
 "nbformat": 4,
 "nbformat_minor": 2
}