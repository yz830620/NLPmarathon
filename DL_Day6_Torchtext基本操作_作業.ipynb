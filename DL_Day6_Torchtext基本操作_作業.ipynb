{
 "cells": [
  {
   "cell_type": "markdown",
   "metadata": {},
   "source": [
    "### 作業目的: 熟練以Torchtext進行文本資料讀取\n",
    "\n",
    "本次作業主要會使用[polarity](http://www.cs.cornell.edu/people/pabo/movie-review-data/)的電影評論來進行使用torchtext資料讀取，學員可以在附件的polarity.tsv看到所使用的資料。\n",
    "\n",
    "Hint: 這次作業同學可以嘗試使用[torchtext.data.TabularDataset](https://torchtext.readthedocs.io/en/latest/data.html#tabulardataset)，可以更簡易讀取資料"
   ]
  },
  {
   "cell_type": "markdown",
   "metadata": {},
   "source": [
    "### 載入套件"
   ]
  },
  {
   "cell_type": "code",
   "execution_count": 1,
   "metadata": {},
   "outputs": [],
   "source": [
    "import torch\n",
    "import pandas as pd\n",
    "import numpy as np\n",
    "from torchtext import data, datasets"
   ]
  },
  {
   "cell_type": "code",
   "execution_count": 2,
   "metadata": {
    "scrolled": true
   },
   "outputs": [
    {
     "output_type": "execute_result",
     "data": {
      "text/plain": [
       "                                                   text  label\n",
       "0     films adapted from comic books have had plenty...      1\n",
       "1     every now and then a movie comes along from a ...      1\n",
       "2     you've got mail works alot better than it dese...      1\n",
       "3      jaws  is a rare film that grabs your attentio...      1\n",
       "4     moviemaking is a lot like being the general ma...      1\n",
       "...                                                 ...    ...\n",
       "1995  if anything , \" stigmata \" should be taken as ...      0\n",
       "1996  john boorman's \" zardoz \" is a goofy cinematic...      0\n",
       "1997  the kids in the hall are an acquired taste .it...      0\n",
       "1998  there was a time when john carpenter was a gre...      0\n",
       "1999  two party guys bob their heads to haddaway's d...      0\n",
       "\n",
       "[2000 rows x 2 columns]"
      ],
      "text/html": "<div>\n<style scoped>\n    .dataframe tbody tr th:only-of-type {\n        vertical-align: middle;\n    }\n\n    .dataframe tbody tr th {\n        vertical-align: top;\n    }\n\n    .dataframe thead th {\n        text-align: right;\n    }\n</style>\n<table border=\"1\" class=\"dataframe\">\n  <thead>\n    <tr style=\"text-align: right;\">\n      <th></th>\n      <th>text</th>\n      <th>label</th>\n    </tr>\n  </thead>\n  <tbody>\n    <tr>\n      <th>0</th>\n      <td>films adapted from comic books have had plenty...</td>\n      <td>1</td>\n    </tr>\n    <tr>\n      <th>1</th>\n      <td>every now and then a movie comes along from a ...</td>\n      <td>1</td>\n    </tr>\n    <tr>\n      <th>2</th>\n      <td>you've got mail works alot better than it dese...</td>\n      <td>1</td>\n    </tr>\n    <tr>\n      <th>3</th>\n      <td>jaws  is a rare film that grabs your attentio...</td>\n      <td>1</td>\n    </tr>\n    <tr>\n      <th>4</th>\n      <td>moviemaking is a lot like being the general ma...</td>\n      <td>1</td>\n    </tr>\n    <tr>\n      <th>...</th>\n      <td>...</td>\n      <td>...</td>\n    </tr>\n    <tr>\n      <th>1995</th>\n      <td>if anything , \" stigmata \" should be taken as ...</td>\n      <td>0</td>\n    </tr>\n    <tr>\n      <th>1996</th>\n      <td>john boorman's \" zardoz \" is a goofy cinematic...</td>\n      <td>0</td>\n    </tr>\n    <tr>\n      <th>1997</th>\n      <td>the kids in the hall are an acquired taste .it...</td>\n      <td>0</td>\n    </tr>\n    <tr>\n      <th>1998</th>\n      <td>there was a time when john carpenter was a gre...</td>\n      <td>0</td>\n    </tr>\n    <tr>\n      <th>1999</th>\n      <td>two party guys bob their heads to haddaway's d...</td>\n      <td>0</td>\n    </tr>\n  </tbody>\n</table>\n<p>2000 rows × 2 columns</p>\n</div>"
     },
     "metadata": {},
     "execution_count": 2
    }
   ],
   "source": [
    "# 探索資料\n",
    "# 可以發現資料為文本與類別，而類別即為正評與負評\n",
    "input_data = pd.read_csv('./polarity.tsv', delimiter='\\t', header=None, names=['text', 'label'])\n",
    "input_data"
   ]
  },
  {
   "cell_type": "markdown",
   "metadata": {},
   "source": [
    "### 建立Pipeline生成資料"
   ]
  },
  {
   "cell_type": "code",
   "execution_count": 14,
   "metadata": {},
   "outputs": [
    {
     "output_type": "execute_result",
     "data": {
      "text/plain": [
       "array([['films adapted from comic books have had plenty of success , whether they\\'re about superheroes ( batman , superman , spawn ) , or geared toward kids ( casper ) or the arthouse crowd ( ghost world ) , but there\\'s never really been a comic book like from hell before .for starters , it was created by alan moore ( and eddie campbell ) , who brought the medium to a whole new level in the mid \\'80s with a 12-part series called the watchmen .to say moore and campbell thoroughly researched the subject of jack the ripper would be like saying michael jackson is starting to look a little odd .the book ( or \" graphic novel , \" if you will ) is over 500 pages long and includes nearly 30 more that consist of nothing but footnotes .in other words , don\\'t dismiss this film because of its source .if you can get past the whole comic book thing , you might find another stumbling block in from hell\\'s directors , albert and allen hughes .getting the hughes brothers to direct this seems almost as ludicrous as casting carrot top in , well , anything , but riddle me this : who better to direct a film that\\'s set in the ghetto and features really violent street crime than the mad geniuses behind menace ii society ?the ghetto in question is , of course , whitechapel in 1888 london\\'s east end .it\\'s a filthy , sooty place where the whores ( called \" unfortunates \" ) are starting to get a little nervous about this mysterious psychopath who has been carving through their profession with surgical precision .when the first stiff turns up , copper peter godley ( robbie coltrane , the world is not enough ) calls in inspector frederick abberline ( johnny depp , blow ) to crack the case .abberline , a widower , has prophetic dreams he unsuccessfully tries to quell with copious amounts of absinthe and opium .upon arriving in whitechapel , he befriends an unfortunate named mary kelly ( heather graham , say it isn\\'t so ) and proceeds to investigate the horribly gruesome crimes that even the police surgeon can\\'t stomach .i don\\'t think anyone needs to be briefed on jack the ripper , so i won\\'t go into the particulars here , other than to say moore and campbell have a unique and interesting theory about both the identity of the killer and the reasons he chooses to slay .in the comic , they don\\'t bother cloaking the identity of the ripper , but screenwriters terry hayes ( vertical limit ) and rafael yglesias ( les mis ? rables ) do a good job of keeping him hidden from viewers until the very end .it\\'s funny to watch the locals blindly point the finger of blame at jews and indians because , after all , an englishman could never be capable of committing such ghastly acts .and from hell\\'s ending had me whistling the stonecutters song from the simpsons for days ( \" who holds back the electric car/who made steve guttenberg a star ? \" ) .don\\'t worry - it\\'ll all make sense when you see it .now onto from hell\\'s appearance : it\\'s certainly dark and bleak enough , and it\\'s surprising to see how much more it looks like a tim burton film than planet of the apes did ( at times , it seems like sleepy hollow 2 ) .the print i saw wasn\\'t completely finished ( both color and music had not been finalized , so no comments about marilyn manson ) , but cinematographer peter deming ( don\\'t say a word ) ably captures the dreariness of victorian-era london and helped make the flashy killing scenes remind me of the crazy flashbacks in twin peaks , even though the violence in the film pales in comparison to that in the black-and-white comic .oscar winner martin childs\\' ( shakespeare in love ) production design turns the original prague surroundings into one creepy place .even the acting in from hell is solid , with the dreamy depp turning in a typically strong performance and deftly handling a british accent .ians holm ( joe gould\\'s secret ) and richardson ( 102 dalmatians ) log in great supporting roles , but the big surprise here is graham .i cringed the first time she opened her mouth , imagining her attempt at an irish accent , but it actually wasn\\'t half bad .the film , however , is all good .2 : 00 - r for strong violence/gore , sexuality , language and drug content',\n",
       "        1],\n",
       "       ['every now and then a movie comes along from a suspect studio , with every indication that it will be a stinker , and to everybody\\'s surprise ( perhaps even the studio ) the film becomes a critical darling .mtv films\\' _election , a high school comedy starring matthew broderick and reese witherspoon , is a current example .did anybody know this film existed a week before it opened ?the plot is deceptively simple .george washington carver high school is having student elections .tracy flick ( reese witherspoon ) is an over-achiever with her hand raised at nearly every question , way , way , high .mr . \" m \" ( matthew broderick ) , sick of the megalomaniac student , encourages paul , a popular-but-slow jock to run .and paul\\'s nihilistic sister jumps in the race as well , for personal reasons .the dark side of such sleeper success is that , because expectations were so low going in , the fact that this was quality stuff made the reviews even more enthusiastic than they have any right to be .you can\\'t help going in with the baggage of glowing reviews , which is in contrast to the negative baggage that the reviewers were likely to have ._election , a good film , does not live up to its hype .what makes _election_ so disappointing is that it contains significant plot details lifted directly from _rushmore_ , released a few months earlier .the similarities are staggering :tracy flick ( _election_ ) is the president of an extraordinary number of clubs , and is involved with the school play .max fischer ( _rushmore_ ) is the president of an extraordinary number of clubs , and is involved with the school play .the most significant tension of _election_ is the potential relationship between a teacher and his student .the most significant tension of _rushmore_ is the potential relationship between a teacher and his student .tracy flick is from a single parent home , which has contributed to her drive .max fischer is from a single parent home , which has contributed to his drive .the male bumbling adult in _election_ ( matthew broderick ) pursues an extramarital affair , gets caught , and his whole life is ruined .he even gets a bee sting .the male bumbling adult in _rushmore_ ( bill murray ) pursues an extramarital affair , gets caught , and his whole life is ruined .he gets several bee stings .and so on .what happened ?how is it that an individual screenplay ( _rushmore_ ) and a novel ( _election_ ) contain so many significant plot points , and yet both films were probably not even aware of each other , made from two different studios , from a genre ( the high school geeks revenge movie ) that hadn\\'t been fully formed yet ?even so , the strengths of _election_ rely upon its fantastic performances from broderick , witherspoon , and newcomer jessica campbell , as paul\\'s anti-social sister , tammy .broderick here is playing the mr . rooney role from _ferris bueller_ , and he seems to be having the most fun he\\'s had since then .witherspoon is a revelation .it\\'s early in the year , it\\'s a comedy , and teenagers have little clout , but for my money , witherspoon deserves an oscar nomination .and once campbell\\'s character gets going , like in her fantastic speech in the gymnasium , then you\\'re won over .one thing that\\'s been bothering me since i\\'ve seen it .there is an extraordinary amount of sexuality in this film .i suppose that , coming from mtv films , i should expect no less . . .but the film starts off light and airy , like a sitcom .as the screws tighten , and the tensions mount , alexander payne decides to add elements that , frankly , distract from the story .it is bad enough that mr . m doesn\\'t like tracy\\'s determination to win at all costs , but did they have to throw in the student/teacher relationship ?even so , there\\'s no logical reason why mr . m has an affair when he does .there\\'s a lot to like in _election_ , but the plot similarities to _rushmore_ , and the tonal nosedive it takes as it gets explicitly sex-driven , mark this as a disappointment .',\n",
       "        1],\n",
       "       [\"you've got mail works alot better than it deserves to .in order to make the film a success , all they had to do was cast two extremely popular and attractive stars , have them share the screen for about two hours and then collect the profits .no real acting was involved and there is not an original or inventive bone in it's body ( it's basically a complete re-shoot of the shop around the corner , only adding a few modern twists ) .essentially , it goes against and defies all concepts of good contemporary filmmaking .it's overly sentimental and at times terribly mushy , not to mention very manipulative .but oh , how enjoyable that manipulation is .but there must be something other than the casting and manipulation that makes the movie work as well as it does , because i absolutely hated the previous ryan/hanks teaming , sleepless in seattle .it couldn't have been the directing , because both films were helmed by the same woman .i haven't quite yet figured out what i liked so much about you've got mail , but then again , is that really important ?if you like something so much , why even question it ?again , the storyline is as cliched as they come .tom hanks plays joe fox , the insanely likeable owner of a discount book chain and meg ryan plays kathleen kelley , the even more insanely likeable proprietor of a family-run children's book shop called , in a nice homage , the shop around the corner .fox and kelley soon become bitter rivals because the new fox books store is opening up right across the block from the small business .little do they know , they are already in love with each other over the internet , only neither party knows the other person's true identity .the rest of the story isn't important because all it does is serve as a mere backdrop for the two stars to share the screen .sure , there are some mildly interesting subplots , but they all fail in comparison to the utter cuteness of the main relationship .all of this , of course , leads up to the predictable climax .but as foreseeable as the ending is , it's so damn cute and well-done that i doubt any movie in the entire year contains a scene the evokes as much pure joy as this part does .when ryan discovers the true identity of her online love , i was filled with such , for lack of a better word , happiness that for the first time all year , i actually left the theater smiling .\",\n",
       "        1],\n",
       "       ...,\n",
       "       ['the kids in the hall are an acquired taste .it took at least a season of watching their show on hbo before i became a believer .maybe after watching a half dozen kids in the hall movies , they would grow into the big screen .my recommendation is that , unless you are a big fan of the kids , skip the film .as it is , their first--and most likely only--attempt at a full length film lacks the qualities that made their comedy work on tv .a big-budget and glossy production can not make up for a lack of spontaneity that permeates their tv show .the kids go through the motions , but you get the feeling that they arent really having fun doing so .and this makes it more difficult for the audience to enjoy their antics .brain candy is a bunch of skits tied together by the story of a pharmaceutical company that develops a new drug to cure depression .in typical sketch-comedy tradition , each actor plays several roles .doctor cooper ( kevin mcdonald ) and his team create the drug .then , under pressure from don roritor ( mark mckinney ) , founder and president of roritor pharmaceuticals , dr . cooper releases the drug into the marketplace .the ensuing distribution of the new happy pill throughout the populace drives the rest of the film .at about 90 minutes , brain candy still seems long .the best thing about sketch comedy--and the kids are no exception--is the ability to quickly deliver the laughs , then go on to another quick skit .but with the additional set-up necessary in telling a longer , coherent story , the laughs just dont come fast enough .strangely , the show is even more tame than it was when on cable tv .the movie makes several attempts at risqueness--mostly by pointing up the gayness of one of scott thompsons characters--but they seem almost forced ; as if they have to live up to a pg rating .one of the best bits , though , does make use of thompsons naked buttocks ; we see him charging into battle--going to have sex with some guys taking a shower .in the classic of this genre , monty python pulled off this delicate balancing act between plot advancement and punchline delivery for most of the holy grail .the kids , unfortunately , are not up to the task .there are some amusing moments , to be sure , but not enough to make the experience an enjoyable one .',\n",
       "        0],\n",
       "       ['there was a time when john carpenter was a great horror director .of course , his best film was 1978\\'s masterpiece , \" halloween , \" but he also made 1980\\'s \" the fog , \" and 1987\\'s underrated , \" prince of darkness . \"heck , he even made a good film in 1995 , with \" in the mouth of madness . \"but something terribly wrong happened to him in 1992 , with the terrible comedy , \" memoirs of an invisible man . \"somehow , carpenter has lost his touch , with junk like his failed 1995 remake of , \" village of the damned , \" to his uninspired 1996 sequel , \" escape from l . a . \" those movies , however , look like cinematic works of art compared to his latest film , \" john carpenter\\'s vampires . \"if i was him , i definately wouldn\\'t want to put my own name in the title .it is a sad state of affairs when carpenter can make something as misguided and flatly written and filmed as , \" vampires . \"the story is simple .jack crow ( james woods ) is a vampire hunter who , along with one of his partners , montoya ( daniel baldwin ) , and a prostitute , katrina ( sheryl lee ) , survives an attack from the master vampire , valek ( thomas ian griffith ) .since katrina was previously bitten by him , crow takes her along because anyone who is bitten by valek becomes telepathically linked to him until they themselves turn into vampires a couple days later , and crow is hoping to find him with the help of her .it seems valek\\'s mission is to steal a black , wooden cross from a roman catholic church that will enable him to become so powerful that sunlight will not destroy him .my question is : how many time have we seen this same story played out ?well , the answer is just about as many times as a better version of the story has been made .\" john carpenter\\'s vampires , \" sadly enough , is one of the most unscary horror films i\\'ve ever seen .in fact , there isn\\'t even one suspenseful moment in the whole 105-minute running time .the non-stop vampire attack sequences are stylelessly filmed , without any interesting camera work , which is usually a trademark of carpenter\\'s .and then we come to the screenplay , which , as far as i can tell , is nearly non-existent .there is no story development , and there isn\\'t even an attempt to flesh out the characters .james woods can be a good actor , but he has nothing to do here but to say a couple of \" pseudo \" -clever lines of dialogue .daniel baldwin has some potential , but his character comes off as being very dense .and sheryl lee ( faring much better as laura palmer in \" twin peaks \" ) , like all of the female characters , plays an offensive stereotypical whore .there is not an ounce of intelligence , or excitement in , \" john carpenter\\'s vamires , \" which is very disheartening coming from an ex-fan of carpenter\\'s .he has said that he turned down directing , \" halloween : h20 , \" because he couldn\\'t work up any excitement for it .and yet , when asked about a \" vampires \" sequel , he said he would be happy to do it .i think that\\'s a definite sign that carpenter has finally lost any trace of his lasting talent , not to mention a significant number of iq points .',\n",
       "        0],\n",
       "       ['two party guys bob their heads to haddaway\\'s dance hit \" what is love ? \"while getting themselves into trouble in nightclub after nightclub .it\\'s barely enough to sustain a three-minute _saturday_night_live_ skit , but _snl_ producer lorne michaels , _clueless_ creator amy heckerling , and paramount pictures saw something in the late night television institution\\'s recurring \" roxbury guys \" sketch that would presumably make a good feature .emphasis on the word \" presumably . \"_a_night_at_the_roxbury_ takes an already-thin concept and tediously stretches it far beyond the breaking point--and that of viewers\\' patience levels .the first five minutes or so of _roxbury_ play very much like one of the original \" roxbury guys \" skits .with \" what is love ? \"blaring on the soundtrack , the brotherly duo of doug and steve butabi ( chris kattan and will ferrell ) bob their heads , scope out \" hotties \" at clubs , and then bump a select few with violent pelvic thrusts .there is one crucial difference , however--these guys speak .that little fact has been used as justification for the film\\'s existence , that the butabis\\' newfound capacity for speech would open up a whole new set of doors for the characters .the doors opened by director john fortenberry and screenwriters steve koren , ferrell , and kattan are new , that\\'s for sure , but they all lead to comic dead ends .there is no story per se , only a loosely structured and linked series of subplots .the brothers literally run into ( or , rather , get run into , as in by car ) richard grieco of _21_jump_street_ fame , and through him they gain entrance into the exclusive roxbury club .there , they meet a hotshot club owner ( chazz palminteri , conspicuously uncredited--can you blame him ? ) , who takes an interest in an idea of theirs .meanwhile , the bros\\' overbearing father ( dan hedaya ) wants them to stop clubbing .when doug refuses and the dimwitted steve obeys his father , a rift is created between the two .the narrative messiness of _roxbury_ would have been forgivable if all that went on were the slightest bit funny , but virtually none of it is .the assembled press audience mostly sat stonily silent throughout the entire film , with the one big exception being a big laugh near the end .alas , the joke--a rather lazy takeoff on _jerry_maguire_--will only strike a chord with people who have seen that film .granted , a lot of people _have_ seen _jerry_maguire_ , but the fact that the film\\'s best joke is completely dependent on one\\'s familiarity with another film says a lot about _roxbury_\\'s lack of inspiration .that lack of inspiration can be traced back to the insipid characters themselves .like too many of the skits on the current incarnation of _saturday_night_live_ , \" the roxbury guys \" is a one-joke sketch that never once suggests that the characters have enough comic life in them to survive outside of the sketch context .after watching one of the \" roxbury \" skits on snl , this is what you come away with from the characters : they bob their heads to \" what is love ? \" ,bump unsuspecting women , and . . . that\\'s all .after watching _a_night_at_the_roxbury_ , you\\'ll be left with exactly the same .',\n",
       "        0]], dtype=object)"
      ]
     },
     "metadata": {},
     "execution_count": 14
    }
   ],
   "source": [
    "input_data.values"
   ]
  },
  {
   "cell_type": "code",
   "execution_count": 21,
   "metadata": {},
   "outputs": [],
   "source": [
    "def remove_non_char(x):\n",
    "    x = ' '.join(x)\n",
    "    x = re.sub(r'[^a-zA-Z]', ' ', x)\n",
    "    x = x.split()\n",
    "\n",
    "    return x"
   ]
  },
  {
   "cell_type": "code",
   "execution_count": 43,
   "metadata": {
    "tags": []
   },
   "outputs": [],
   "source": [
    "# 建立Field與Dataset\n",
    "import spacy\n",
    "nlp = spacy.load('en_core_web_sm').tokenizer\n",
    "\n",
    "TEXT = data.Field(sequential=True, dtype=torch.float64, tokenize=nlp)\n",
    "LABEL = data.LabelField(dtype=torch.float)\n",
    "fields = [('text', TEXT), ('label', LABEL)]\n",
    "\n",
    "examples = []\n",
    "for text, label in input_data.values:\n",
    "    examples.append(data.Example.fromlist(data=[text, label], fields=fields))"
   ]
  },
  {
   "cell_type": "code",
   "execution_count": 50,
   "metadata": {
    "scrolled": true
   },
   "outputs": [
    {
     "output_type": "execute_result",
     "data": {
      "text/plain": [
       "(0,\n",
       "  desperate measures  is a generic title for a film that's beyond generic .it's also a depressing waste of talent , with the solid team of michael keaton and andy garcia unthankfully thrown thankless lead roles , not to mention once-cool director barbet schroeder sadly continuing his string of not-cool flicks -- this thriller is more \" before and after \" than \" reversal of fortune . \"the movie is a big disappointment , and yet it's somewhat easy to see what motivated such big names to attach themselves to it -- the premise is both promising and intriguing .too bad the execution's all wrong , though , because the set-up of \" desperate measures \" boasts some rather enticing elements that deserve to be put to far better use .san francisco cop frank connor ( garcia ) is a single parent with a troubling dilemma -- his son matt ( joseph cross ) is stricken with cancer which only a bone marrow transplant can push into remission .even worse , the only compatible donor is violent sociopath peter mccabe ( michael keaton ) , currently serving a life sentence for multiple murders and other various crimes against society .connor tries his best to convince mccabe to go along with the surgery ; he's at first reluctant , but reconsiders after he realizes he can plan his escape at the hospital .when he does make a run for it , connor offers close pursuit , but for different reasons than his superiors ( including the crusty brian cox ) -- they want to take mccabe down , while connor needs to keep him alive , or all hope is lost for his little boy .one misstep \" desperate measures \" makes is in its underdevelopment of matt's illness .what's needed are more details as to exactly why mccabe is the only bone marrow match that works ; there would seem to be other possible contenders somewhere in the country , and thus many of the ways that connor endangers the lives of himself and those around him by attempting to keep mccabe alive are just a little too hard to swallow .take , for example , a scene where mccabe is trying to make a getaway by climbing over an elevated passage tunnel connecting two sections of the hospital .the police have their spotlight and guns aimed right on him , and what does connor do ?he shoots the spotlight out so that mccabe can continue his flight .connor knows very well what dangerous deeds this guy is capable of , and yet never seems to think that mccabe will eventually get to and try to harm his son .whatever .to be fair , though , the lack of story background is the least of the movie's problems .first and foremost is how cheaply \" desperate measures \" trades the potential of it's opening scenes for the routine action ballistics of its final hour .once mccabe escapes , the film becomes the fugitive in reverse and with no thrills .there are countless scenes where the good guys catch up to keaton only to have him grab a hostage and get away .also , the movie is so intent on giving you a hoot-inducing , lip-smacking villain ( the ads have compared peter mccabe to hannibal lechter , natch ) that it completely casts garcia's frank connor by the dullsville wayside ; \" desperate measures \" appears to like its antagonist so much more than its protagonist , and the movie's head-scratcher of a send-off confirms this .there is some good to be found amongst this mess , particularly in the acting department .cast against type , michael keaton's understated menace is highly effective .although he's not given much believable to work with , andy garcia plays off a taut emotional chord .joseph cross , as garicia's ailing son , is surprisingly unsentimental , and marcia gay harden lends solid support as a doctor who becomes a major player in the unfolding chaos .this cast does its best to camouflage the sorry plot as it chugs towards an inevitably happy ending , but most is lost .it goes without saying that \" desperate measures \" needs an operation of its very own .)"
      ]
     },
     "metadata": {},
     "execution_count": 50
    }
   ],
   "source": [
    "# 取的examples並打亂順序\n",
    "import random\n",
    "random.shuffle(examples)\n",
    "# 以8:2的比例切分examples\n",
    "train_ex = examples[:int(len(examples)*0.8)]\n",
    "test_ex = examples[int(len(examples)*0.8):]\n",
    "\n",
    "# 建立training與testing dataset\n",
    "train_data = data.Dataset(examples=train_ex, fields=dict(fields))\n",
    "test_data = data.Dataset(examples=test_ex, fields=dict(fields))\n",
    "\n",
    "train_data[0].label, train_data[0].text"
   ]
  },
  {
   "cell_type": "code",
   "execution_count": 54,
   "metadata": {},
   "outputs": [
    {
     "output_type": "stream",
     "name": "stdout",
     "text": [
      "Vocabularies of index 0-5: ['<unk>', '<pad>',  , synopsis, delicatessen, the, one, perhaps, yet, i] \n\nwords to index defaultdict(None, {0: 0, 1: 1})\n"
     ]
    }
   ],
   "source": [
    "# 建立字典\n",
    "TEXT.build_vocab(train_data)\n",
    "LABEL.build_vocab(train_data)\n",
    "\n",
    "print(f\"Vocabularies of index 0-5: {TEXT.vocab.itos[:10]} \\n\")\n",
    "print(f\"words to index {LABEL.vocab.stoi}\")"
   ]
  },
  {
   "cell_type": "code",
   "execution_count": 68,
   "metadata": {},
   "outputs": [],
   "source": [
    "train_iter, test_iter = data.Iterator(dataset=train_data, batch_size=2, repeat=False, sort_key=lambda ex:len(ex.text)), data.Iterator(dataset=test_data, batch_size=2, repeat=False, sort_key=lambda ex:len(ex.text))"
   ]
  },
  {
   "cell_type": "code",
   "execution_count": 70,
   "metadata": {},
   "outputs": [
    {
     "output_type": "stream",
     "name": "stdout",
     "text": [
      "tensor([[7.1700e+02, 5.4600e+02],\n        [2.2310e+03, 3.2040e+03],\n        [5.2360e+03, 4.5270e+03],\n        ...,\n        [1.0915e+06, 1.0000e+00],\n        [1.0920e+06, 1.0000e+00],\n        [1.0927e+06, 1.0000e+00]], dtype=torch.float64) torch.Size([920, 2])\ntensor([0., 0.]) torch.Size([2])\ntensor([[4.1600e+02, 7.0000e+00],\n        [2.8720e+03, 3.4210e+03],\n        [4.1580e+03, 4.4010e+03],\n        ...,\n        [1.0098e+06, 1.0000e+00],\n        [1.0102e+06, 1.0000e+00],\n        [1.0106e+06, 1.0000e+00]], dtype=torch.float64) torch.Size([754, 2])\ntensor([1., 0.]) torch.Size([2])\ntensor([[1.0510e+03, 1.3350e+03],\n        [2.9900e+03, 2.3620e+03],\n        [3.6370e+03, 4.3470e+03],\n        ...,\n        [1.0000e+00, 9.2563e+05],\n        [1.0000e+00, 9.2612e+05],\n        [1.0000e+00, 9.2700e+05]], dtype=torch.float64) torch.Size([626, 2])\ntensor([1., 0.]) torch.Size([2])\n"
     ]
    }
   ],
   "source": [
    "i = 0\n",
    "for train_batch in train_iter:\n",
    "    print(train_batch.text, train_batch.text.shape)\n",
    "    print(train_batch.label, train_batch.label.shape)\n",
    "    i+=1\n",
    "    if i == 3:\n",
    "        break"
   ]
  },
  {
   "cell_type": "code",
   "execution_count": null,
   "metadata": {},
   "outputs": [],
   "source": []
  }
 ],
 "metadata": {
  "kernelspec": {
   "name": "python3",
   "display_name": "Python 3.7.3 64-bit ('tf21g': conda)",
   "metadata": {
    "interpreter": {
     "hash": "bce34ad92f12188bdbde6c4d0d0df6759e2da82e2ea2ad01676467783730534f"
    }
   }
  },
  "language_info": {
   "codemirror_mode": {
    "name": "ipython",
    "version": 3
   },
   "file_extension": ".py",
   "mimetype": "text/x-python",
   "name": "python",
   "nbconvert_exporter": "python",
   "pygments_lexer": "ipython3",
   "version": "3.7.3-final"
  }
 },
 "nbformat": 4,
 "nbformat_minor": 2
}