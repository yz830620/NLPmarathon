{
 "cells": [
  {
   "cell_type": "markdown",
   "metadata": {},
   "source": [
    "### 作業目的: 熟練以Torchtext進行文本資料讀取\n",
    "\n",
    "本次作業主要會使用[polarity](http://www.cs.cornell.edu/people/pabo/movie-review-data/)的電影評論來進行使用torchtext資料讀取，學員可以在附件的polarity.tsv看到所使用的資料。\n",
    "\n",
    "Hint: 這次作業同學可以嘗試使用[torchtext.data.TabularDataset](https://torchtext.readthedocs.io/en/latest/data.html#tabulardataset)，可以更簡易讀取資料"
   ]
  },
  {
   "cell_type": "markdown",
   "metadata": {},
   "source": [
    "### 載入套件"
   ]
  },
  {
   "cell_type": "code",
   "execution_count": 17,
   "metadata": {},
   "outputs": [],
   "source": [
    "import re\n",
    "import torch\n",
    "import pandas as pd\n",
    "import numpy as np\n",
    "from torchtext import data, datasets"
   ]
  },
  {
   "cell_type": "code",
   "execution_count": 18,
   "metadata": {
    "scrolled": true
   },
   "outputs": [
    {
     "output_type": "execute_result",
     "data": {
      "text/plain": [
       "                                                   text  label\n",
       "0     films adapted from comic books have had plenty...      1\n",
       "1     every now and then a movie comes along from a ...      1\n",
       "2     you've got mail works alot better than it dese...      1\n",
       "3      jaws  is a rare film that grabs your attentio...      1\n",
       "4     moviemaking is a lot like being the general ma...      1\n",
       "...                                                 ...    ...\n",
       "1995  if anything , \" stigmata \" should be taken as ...      0\n",
       "1996  john boorman's \" zardoz \" is a goofy cinematic...      0\n",
       "1997  the kids in the hall are an acquired taste .it...      0\n",
       "1998  there was a time when john carpenter was a gre...      0\n",
       "1999  two party guys bob their heads to haddaway's d...      0\n",
       "\n",
       "[2000 rows x 2 columns]"
      ],
      "text/html": "<div>\n<style scoped>\n    .dataframe tbody tr th:only-of-type {\n        vertical-align: middle;\n    }\n\n    .dataframe tbody tr th {\n        vertical-align: top;\n    }\n\n    .dataframe thead th {\n        text-align: right;\n    }\n</style>\n<table border=\"1\" class=\"dataframe\">\n  <thead>\n    <tr style=\"text-align: right;\">\n      <th></th>\n      <th>text</th>\n      <th>label</th>\n    </tr>\n  </thead>\n  <tbody>\n    <tr>\n      <th>0</th>\n      <td>films adapted from comic books have had plenty...</td>\n      <td>1</td>\n    </tr>\n    <tr>\n      <th>1</th>\n      <td>every now and then a movie comes along from a ...</td>\n      <td>1</td>\n    </tr>\n    <tr>\n      <th>2</th>\n      <td>you've got mail works alot better than it dese...</td>\n      <td>1</td>\n    </tr>\n    <tr>\n      <th>3</th>\n      <td>jaws  is a rare film that grabs your attentio...</td>\n      <td>1</td>\n    </tr>\n    <tr>\n      <th>4</th>\n      <td>moviemaking is a lot like being the general ma...</td>\n      <td>1</td>\n    </tr>\n    <tr>\n      <th>...</th>\n      <td>...</td>\n      <td>...</td>\n    </tr>\n    <tr>\n      <th>1995</th>\n      <td>if anything , \" stigmata \" should be taken as ...</td>\n      <td>0</td>\n    </tr>\n    <tr>\n      <th>1996</th>\n      <td>john boorman's \" zardoz \" is a goofy cinematic...</td>\n      <td>0</td>\n    </tr>\n    <tr>\n      <th>1997</th>\n      <td>the kids in the hall are an acquired taste .it...</td>\n      <td>0</td>\n    </tr>\n    <tr>\n      <th>1998</th>\n      <td>there was a time when john carpenter was a gre...</td>\n      <td>0</td>\n    </tr>\n    <tr>\n      <th>1999</th>\n      <td>two party guys bob their heads to haddaway's d...</td>\n      <td>0</td>\n    </tr>\n  </tbody>\n</table>\n<p>2000 rows × 2 columns</p>\n</div>"
     },
     "metadata": {},
     "execution_count": 18
    }
   ],
   "source": [
    "# 探索資料\n",
    "# 可以發現資料為文本與類別，而類別即為正評與負評\n",
    "input_data = pd.read_csv('./polarity.tsv', delimiter='\\t', header=None, names=['text', 'label'])\n",
    "input_data"
   ]
  },
  {
   "cell_type": "markdown",
   "metadata": {},
   "source": [
    "### 建立Pipeline生成資料"
   ]
  },
  {
   "cell_type": "code",
   "execution_count": 19,
   "metadata": {},
   "outputs": [],
   "source": [
    "def remove_non_char(x):\n",
    "    x = ' '.join(x)\n",
    "    x = re.sub(r'[^a-zA-Z]', ' ', x)\n",
    "    x = x.split()\n",
    "\n",
    "    return x"
   ]
  },
  {
   "cell_type": "code",
   "execution_count": 20,
   "metadata": {
    "tags": []
   },
   "outputs": [],
   "source": [
    "# 建立Field與Dataset\n",
    "from spacy.tokenizer import Tokenizer\n",
    "\n",
    "nlp = spacy.load(\"en_core_web_sm\")\n",
    "tokenizer = Tokenizer(nlp.vocab)\n",
    "\n",
    "def spacy_tokenize(x):\n",
    "    return [tok.text for tok in tokenizer(x)]\n",
    "\n",
    "TEXT = data.Field(sequential=True, dtype=torch.float64, tokenize=spacy_tokenize, preprocessing=remove_non_char)\n",
    "LABEL = data.LabelField(dtype=torch.float)\n",
    "fields = [('text', TEXT), ('label', LABEL)]\n",
    "\n",
    "examples = []\n",
    "for text, label in input_data.values:\n",
    "    examples.append(data.Example.fromlist(data=[text, label], fields=fields))"
   ]
  },
  {
   "cell_type": "code",
   "execution_count": 23,
   "metadata": {
    "scrolled": true
   },
   "outputs": [
    {
     "output_type": "execute_result",
     "data": {
      "text/plain": [
       "(0,\n",
       " ['i',\n",
       "  'heard',\n",
       "  'actor',\n",
       "  'skeet',\n",
       "  'ulrich',\n",
       "  'discussing',\n",
       "  'this',\n",
       "  'film',\n",
       "  'in',\n",
       "  'a',\n",
       "  'couple',\n",
       "  'of',\n",
       "  'interviews',\n",
       "  'and',\n",
       "  'in',\n",
       "  'both',\n",
       "  'instances',\n",
       "  'he',\n",
       "  'felt',\n",
       "  'the',\n",
       "  'strange',\n",
       "  'compulsion',\n",
       "  'to',\n",
       "  'compare',\n",
       "  'it',\n",
       "  'a',\n",
       "  'little',\n",
       "  'series',\n",
       "  'of',\n",
       "  'films'])"
      ]
     },
     "metadata": {},
     "execution_count": 23
    }
   ],
   "source": [
    "# 取的examples並打亂順序\n",
    "import random\n",
    "random.shuffle(examples)\n",
    "# 以8:2的比例切分examples\n",
    "train_ex = examples[:int(len(examples)*0.8)]\n",
    "test_ex = examples[int(len(examples)*0.8):]\n",
    "\n",
    "# 建立training與testing dataset\n",
    "train_data = data.Dataset(examples=train_ex, fields=dict(fields))\n",
    "test_data = data.Dataset(examples=test_ex, fields=dict(fields))\n",
    "\n",
    "train_data[0].label, train_data[0].text[:30]"
   ]
  },
  {
   "cell_type": "code",
   "execution_count": 22,
   "metadata": {
    "tags": [
     "outputPrepend"
    ]
   },
   "outputs": [
    {
     "output_type": "stream",
     "name": "stdout",
     "text": [
      "u': 34923, 'umbrella': 34924, 'ummm': 34925, 'ummyup': 34926, 'umpire': 34927, 'umpteenth': 34928, 'umptenth': 34929, 'unabashed': 34930, 'unabated': 34931, 'unaccountably': 34932, 'unaddressed': 34933, 'unaffected': 34934, 'unaffecting': 34935, 'unambiguously': 34936, 'unanimous': 34937, 'unanswerable': 34938, 'unanticipated': 34939, 'unarguable': 34940, 'unarguably': 34941, 'unashamed': 34942, 'unassertive': 34943, 'unassociated': 34944, 'unattainable': 34945, 'unauthentic': 34946, 'unauthorized': 34947, 'unavailable': 34948, 'unawareness': 34949, 'unbelief': 34950, 'unbelieveably': 34951, 'unbelivable': 34952, 'unbiased': 34953, 'unbilled': 34954, 'unblemished': 34955, 'unboarded': 34956, 'unbrewed': 34957, 'unbusy': 34958, 'unbuttoning': 34959, 'unchained': 34960, 'unchristian': 34961, 'unclaimed': 34962, 'uncleanness': 34963, 'uncommunicative': 34964, 'uncompromisingly': 34965, 'unconcious': 34966, 'unconditionally': 34967, 'unconnected': 34968, 'unconnectedness': 34969, 'unconscionable': 34970, 'unconsidered': 34971, 'unconsoling': 34972, 'unconsummated': 34973, 'uncontrolled': 34974, 'unconventionality': 34975, 'unconventionally': 34976, 'uncorking': 34977, 'uncorks': 34978, 'uncountable': 34979, 'uncreative': 34980, 'uncrowned': 34981, 'undefeatable': 34982, 'underachieves': 34983, 'underbids': 34984, 'undercard': 34985, 'underdogs': 34986, 'underdone': 34987, 'underdrawn': 34988, 'underestimates': 34989, 'underlined': 34990, 'underlit': 34991, 'underpaying': 34992, 'underperforming': 34993, 'underperforms': 34994, 'underplay': 34995, 'underpopulated': 34996, 'underscoring': 34997, 'undersea': 34998, 'underseen': 34999, 'understandeably': 35000, 'understate': 35001, 'understates': 35002, 'undertake': 35003, 'undertone': 35004, 'undertsanding': 35005, 'undervalued': 35006, 'underweight': 35007, 'underwhelmed': 35008, 'undeterred': 35009, 'undeterring': 35010, 'undid': 35011, 'undie': 35012, 'undifferentiated': 35013, 'undiluted': 35014, 'undirected': 35015, 'undiscerning': 35016, 'undisciplined': 35017, 'undisturbed': 35018, 'undoes': 35019, 'undone': 35020, 'undoubtably': 35021, 'undoubtly': 35022, 'undresses': 35023, 'undressing': 35024, 'unduly': 35025, 'unearned': 35026, 'unearthing': 35027, 'uneasieness': 35028, 'uneasily': 35029, 'unempathetic': 35030, 'unending': 35031, 'unendurably': 35032, 'unenergetically': 35033, 'unequipped': 35034, 'unequivocally': 35035, 'unerving': 35036, 'unethical': 35037, 'unexistent': 35038, 'unexpectantly': 35039, 'unexpecting': 35040, 'unexperienced': 35041, 'unexplainable': 35042, 'unexploited': 35043, 'unexploitive': 35044, 'unexpressed': 35045, 'unextraordinary': 35046, 'unfailingly': 35047, 'unfaithfulness': 35048, 'unfathomably': 35049, 'unfazed': 35050, 'unfeasible': 35051, 'unfetching': 35052, 'unfilmable': 35053, 'unfitting': 35054, 'unflagging': 35055, 'unflashy': 35056, 'unflushed': 35057, 'unfolded': 35058, 'unforeseen': 35059, 'unforgiveably': 35060, 'unforgiving': 35061, 'unformal': 35062, 'unfortunatetely': 35063, 'unfortunatly': 35064, 'unfrozen': 35065, 'ungainly': 35066, 'unharmed': 35067, 'unheralded': 35068, 'unhurried': 35069, 'unicorns': 35070, 'unification': 35071, 'unimaginatively': 35072, 'unimitible': 35073, 'unimpeachable': 35074, 'uninfected': 35075, 'uninhabitable': 35076, 'unintelligently': 35077, 'uninterest': 35078, 'uninterestingly': 35079, 'uninterrupted': 35080, 'unintrusive': 35081, 'uninvited': 35082, 'uninvolivng': 35083, 'unions': 35084, 'uniqe': 35085, 'unispiring': 35086, 'unitentionally': 35087, 'unites': 35088, 'unjustifiable': 35089, 'unjustified': 35090, 'unkrich': 35091, 'unleashing': 35092, 'unlicensed': 35093, 'unlistenable': 35094, 'unloaded': 35095, 'unlocks': 35096, 'unloving': 35097, 'unmade': 35098, 'unmarried': 35099, 'unmenacing': 35100, 'unmentioned': 35101, 'unmet': 35102, 'unmistakeable': 35103, 'unmitigatedly': 35104, 'unncessary': 35105, 'unneccesary': 35106, 'unnerrving': 35107, 'unnerve': 35108, 'unnerved': 35109, 'unnoticeably': 35110, 'uno': 35111, 'unobjective': 35112, 'unobserved': 35113, 'unoffensive': 35114, 'unopposed': 35115, 'unpaid': 35116, 'unparalled': 35117, 'unparallelled': 35118, 'unpardonable': 35119, 'unpaved': 35120, 'unpleasantly': 35121, 'unpolished': 35122, 'unpopped': 35123, 'unpopularity': 35124, 'unpredictably': 35125, 'unprepared': 35126, 'unprofessionalism': 35127, 'unpromisingly': 35128, 'unproven': 35129, 'unpure': 35130, 'unqualified': 35131, 'unquestionable': 35132, 'unquestioning': 35133, 'unrated': 35134, 'unraveling': 35135, 'unreachable': 35136, 'unrealized': 35137, 'unreceptive': 35138, 'unrefined': 35139, 'unrelentless': 35140, 'unremittingly': 35141, 'unrepentant': 35142, 'unrequisite': 35143, 'unrest': 35144, 'unrewarding': 35145, 'unrighteous': 35146, 'unrightfully': 35147, 'unromantic': 35148, 'unsalveageably': 35149, 'unsatisying': 35150, 'unseasonably': 35151, 'unselfconsciously': 35152, 'unsettlingly': 35153, 'unsexy': 35154, 'unsheathes': 35155, 'unshrouded': 35156, 'unsigned': 35157, 'unskilled': 35158, 'unsocial': 35159, 'unsophisticated': 35160, 'unspeakably': 35161, 'unspooling': 35162, 'unspools': 35163, 'unstimulated': 35164, 'unstoppably': 35165, 'unstructured': 35166, 'unsuave': 35167, 'unsubstantial': 35168, 'unsupervised': 35169, 'unsupportive': 35170, 'unsurpassed': 35171, 'unsuspected': 35172, 'unsuspenseful': 35173, 'untangle': 35174, 'untapped': 35175, 'unthankfully': 35176, 'unthinking': 35177, 'unthrilling': 35178, 'untidy': 35179, 'untranslated': 35180, 'unturned': 35181, 'unusable': 35182, 'unused': 35183, 'unveil': 35184, 'unveiled': 35185, 'unveiling': 35186, 'unveils': 35187, 'unwatchably': 35188, 'unweaves': 35189, 'unwelcomed': 35190, 'unwinable': 35191, 'unwinding': 35192, 'unwinds': 35193, 'unwisely': 35194, 'unwitting': 35195, 'unworkable': 35196, 'unwraps': 35197, 'unzips': 35198, 'upbeats': 35199, 'upending': 35200, 'upgrades': 35201, 'upham': 35202, 'upheld': 35203, 'uphill': 35204, 'upholds': 35205, 'uplifiting': 35206, 'uplift': 35207, 'uplifts': 35208, 'uploaded': 35209, 'uploading': 35210, 'upmore': 35211, 'uppedity': 35212, 'uprooting': 35213, 'uprorously': 35214, 'upstage': 35215, 'upstaging': 35216, 'upstanding': 35217, 'uptown': 35218, 'ur': 35219, 'urbaniak': 35220, 'urbanite': 35221, 'urbanites': 35222, 'urbano': 35223, 'urgayle': 35224, 'urgencies': 35225, 'urgently': 35226, 'urinary': 35227, 'urinating': 35228, 'urkel': 35229, 'url': 35230, 'urn': 35231, 'ursula': 35232, 'usefulness': 35233, 'ushers': 35234, 'usurp': 35235, 'usurper': 35236, 'ut': 35237, 'uta': 35238, 'utah': 35239, 'utilised': 35240, 'utilising': 35241, 'utlizes': 35242, 'utterance': 35243, 'utterances': 35244, 'uuuhhmmm': 35245, 'uuuhmm': 35246, 'uuuuuuggggggglllllllyyyyy': 35247, 'uv': 35248, 'uzi': 35249, 'vacancy': 35250, 'vacano': 35251, 'vacationers': 35252, 'vaccinated': 35253, 'vaccine': 35254, 'vacuumed': 35255, 'vadar': 35256, 'vadis': 35257, 'vagrants': 35258, 'vaild': 35259, 'vainly': 35260, 'valderrama': 35261, 'valdez': 35262, 'valencia': 35263, 'valenti': 35264, 'valentin': 35265, 'valentina': 35266, 'valentines': 35267, 'validates': 35268, 'validating': 35269, 'valkenburgh': 35270, 'valkyries': 35271, 'vallejostarring': 35272, 'vallick': 35273, 'valmont': 35274, 'valor': 35275, 'valour': 35276, 'valuables': 35277, 'valued': 35278, 'vamires': 35279, 'vamping': 35280, 'vampiric': 35281, 'vampirism': 35282, 'vampy': 35283, 'vampyre': 35284, 'vance': 35285, 'vandalizing': 35286, 'vander': 35287, 'vandercave': 35288, 'vandernoot': 35289, 'vanessal': 35290, 'vanguard': 35291, 'vanilla': 35292, 'vannesa': 35293, 'vanquish': 35294, 'vanquished': 35295, 'vansihes': 35296, 'vantage': 35297, 'vantages': 35298, 'vanzant': 35299, 'vapidly': 35300, 'vapor': 35301, 'vaporized': 35302, 'varden': 35303, 'varela': 35304, 'vargas': 35305, 'variable': 35306, 'varieties': 35307, 'varley': 35308, 'vasquez': 35309, 'vastness': 35310, 'vaudevillian': 35311, 'vaus': 35312, 'vc': 35313, 'vcrs': 35314, 'vee': 35315, 'veered': 35316, 'vegans': 35317, 'vegetable': 35318, 'vegetarian': 35319, 'vegetative': 35320, 'veggie': 35321, 'vehemence': 35322, 'vehemently': 35323, 'vehicular': 35324, 'veil': 35325, 'velicorapters': 35326, 'velma': 35327, 'velozpermanent': 35328, 'venable': 35329, 'venality': 35330, 'vending': 35331, 'venerated': 35332, 'venereal': 35333, 'venier': 35334, 'venkman': 35335, 'venner': 35336, 'ventilation': 35337, 'ventricle': 35338, 'ventriloquist': 35339, 'vents': 35340, 'ventured': 35341, 'venus': 35342, 'veranda': 35343, 'verb': 35344, 'verbalized': 35345, 'verber': 35346, 'verbinski': 35347, 'verbose': 35348, 'verdant': 35349, 'verdell': 35350, 'verging': 35351, 'verification': 35352, 'veritably': 35353, 'vermin': 35354, 'verna': 35355, 'vernacular': 35356, 'vernier': 35357, 'veronique': 35358, 'verplanck': 35359, 'versed': 35360, 'vertiginous': 35361, 'veruca': 35362, 'verydifferent': 35363, 'veryodd': 35364, 'vesco': 35365, 'veseen': 35366, 'vessels': 35367, 'vestern': 35368, 'vestiges': 35369, 'vestments': 35370, 'veterinary': 35371, 'vetern': 35372, 'vets': 35373, 'vetter': 35374, 'vexatious': 35375, 'vexatiousness': 35376, 'vhf': 35377, 'viability': 35378, 'vibrates': 35379, 'vibrating': 35380, 'vicar': 35381, 'vicars': 35382, 'vicellous': 35383, 'viceversa': 35384, 'vicinity': 35385, 'viciousness': 35386, 'vickie': 35387, 'victimize': 35388, 'victimizer': 35389, 'victoriously': 35390, 'videocameras': 35391, 'videocasette': 35392, 'videogames': 35393, 'videophones': 35394, 'videoshelves': 35395, 'videotaped': 35396, 'vierny': 35397, 'viewfinder': 35398, 'viii': 35399, 'vikram': 35400, 'vil': 35401, 'villalobos': 35402, 'villiage': 35403, 'villiany': 35404, 'vilmos': 35405, 'vinci': 35406, 'vines': 35407, 'vineyard': 35408, 'vinicius': 35409, 'vinie': 35410, 'vining': 35411, 'vinterberg': 35412, 'vinyl': 35413, 'violate': 35414, 'violates': 35415, 'violets': 35416, 'viperous': 35417, 'vipers': 35418, 'vips': 35419, 'virginian': 35420, 'virgins': 35421, 'virtuous': 35422, 'viruses': 35423, 'visa': 35424, 'visas': 35425, 'viscera': 35426, 'visconti': 35427, 'viscous': 35428, 'viscously': 35429, 'visibility': 35430, 'visitation': 35431, 'visor': 35432, 'vista': 35433, 'visualize': 35434, 'visualized': 35435, 'visualizing': 35436, 'vitamin': 35437, 'vitarelli': 35438, 'viterelli': 35439, 'viv': 35440, 'vivaldi': 35441, 'vivien': 35442, 'vivona': 35443, 'vivre': 35444, 'vj': 35445, 'vlad': 35446, 'vllainous': 35447, 'vocalist': 35448, 'vocalists': 35449, 'voges': 35450, 'voiceovers': 35451, 'volatility': 35452, 'volcanologist': 35453, 'volcanos': 35454, 'volcanovolcano': 35455, 'volley': 35456, 'volleyball': 35457, 'vols': 35458, 'voltage': 35459, 'volunteering': 35460, 'volvo': 35461, 'vomitted': 35462, 'vomity': 35463, 'voom': 35464, 'vore': 35465, 'vorld': 35466, 'vorzon': 35467, 'vota': 35468, 'votes': 35469, 'voyages': 35470, 'voyeur': 35471, 'voyeuristically': 35472, 'voyeurs': 35473, 'vrooshka': 35474, 'vsitcom': 35475, 'vukovich': 35476, 'vulnerabilities': 35477, 'vy': 35478, 'vylette': 35479, 'waaaayyyyyy': 35480, 'wabbit': 35481, 'wacked': 35482, 'wackier': 35483, 'wackiness': 35484, 'wad': 35485, 'waddle': 35486, 'waddling': 35487, 'wads': 35488, 'wafer': 35489, 'wagered': 35490, 'wah': 35491, 'wahoo': 35492, 'waif': 35493, 'wailing': 35494, 'waisted': 35495, 'waitering': 35496, 'waittress': 35497, 'wakefield': 35498, 'wakingup': 35499, 'walcott': 35500, 'waldo': 35501, 'walhberg': 35502, 'walkers': 35503, 'walkie': 35504, 'walkouts': 35505, 'walkway': 35506, 'walled': 35507, 'wallets': 35508, 'wallop': 35509, 'wallpaperer': 35510, 'walsingham': 35511, 'walton': 35512, 'wanderer': 35513, 'wanderlust': 35514, 'wanderlusting': 35515, 'wands': 35516, 'wane': 35517, 'wangenhein': 35518, 'wanker': 35519, 'wanking': 35520, 'warbling': 35521, 'warchus': 35522, 'warda': 35523, 'wards': 35524, 'ware': 35525, 'warhead': 35526, 'warlock': 35527, 'warlord': 35528, 'warmer': 35529, 'warmers': 35530, 'warmest': 35531, 'warms': 35532, 'warmup': 35533, 'wart': 35534, 'warton': 35535, 'warwick': 35536, 'washer': 35537, 'wasin': 35538, 'waster': 35539, 'watchabe': 35540, 'watchability': 35541, 'watchdog': 35542, 'watchdogs': 35543, 'watchingsomeone': 35544, 'watchmen': 35545, 'waterbeds': 35546, 'watercolors': 35547, 'watershed': 35548, 'waterway': 35549, 'waterworks': 35550, 'watkin': 35551, 'watsonthis': 35552, 'wattage': 35553, 'waturu': 35554, 'waved': 35555, 'waver': 35556, 'wavering': 35557, 'wavers': 35558, 'waxen': 35559, 'waxman': 35560, 'waylaid': 35561, 'waylon': 35562, 'waynes': 35563, 'waystation': 35564, 'wayyyy': 35565, 'wayyyyy': 35566, 'wazzoo': 35567, 'wealthiest': 35568, 'weaponesque': 35569, 'wearer': 35570, 'weasel': 35571, 'weasely': 35572, 'weathered': 35573, 'webbed': 35574, 'webpages': 35575, 'weddding': 35576, 'weddell': 35577, 'wedge': 35578, 'wedged': 35579, 'wednesdays': 35580, 'weds': 35581, 'weeds': 35582, 'weekends': 35583, 'weekened': 35584, 'weendigo': 35585, 'weepie': 35586, 'wehrmacht': 35587, 'weighing': 35588, 'weights': 35589, 'weinberger': 35590, 'weirded': 35591, 'weirdos': 35592, 'weissmuller': 35593, 'welcomes': 35594, 'welcoming': 35595, 'welder': 35596, 'welding': 35597, 'wellesa': 35598, 'wellness': 35599, 'wellspent': 35600, 'wences': 35601, 'wendkos': 35602, 'wenteworth': 35603, 'wesleyan': 35604, 'westa': 35605, 'westlake': 35606, 'westridge': 35607, 'wetmore': 35608, 'wets': 35609, 'wetter': 35610, 'wetting': 35611, 'wevow': 35612, 'weyl': 35613, 'wga': 35614, 'whack': 35615, 'whacking': 35616, 'whala': 35617, 'whammy': 35618, 'whatabout': 35619, 'whateveryou': 35620, 'whazoo': 35621, 'wheat': 35622, 'wheaton': 35623, 'wheedon': 35624, 'whelmed': 35625, 'whereupon': 35626, 'whetted': 35627, 'whic': 35628, 'whichisn': 35629, 'whichmakes': 35630, 'whiffleball': 35631, 'whilefingal': 35632, 'whilewe': 35633, 'whimpers': 35634, 'whimsically': 35635, 'whiner': 35636, 'whippings': 35637, 'whirl': 35638, 'whirlpool': 35639, 'whirlwinds': 35640, 'whirs': 35641, 'whisk': 35642, 'whisking': 35643, 'whispery': 35644, 'whistling': 35645, 'whitehouse': 35646, 'whitewater': 35647, 'whitmore': 35648, 'whittaker': 35649, 'whitworth': 35650, 'whizzing': 35651, 'whobilation': 35652, 'whodunnit': 35653, 'whooping': 35654, 'whooshed': 35655, 'whorehouses': 35656, 'whoring': 35657, 'whoseriously': 35658, 'whovians': 35659, 'whovier': 35660, 'whut': 35661, 'wicca': 35662, 'wich': 35663, 'wichita': 35664, 'wickedness': 35665, 'widening': 35666, 'widens': 35667, 'widescale': 35668, 'wield': 35669, 'wielded': 35670, 'wielders': 35671, 'wields': 35672, 'wierdness': 35673, 'wiesz': 35674, 'wigged': 35675, 'wiggles': 35676, 'wiggy': 35677, 'wilbur': 35678, 'wildflowers': 35679, 'wildness': 35680, 'wilford': 35681, 'wilfrid': 35682, 'wilkes': 35683, 'willa': 35684, 'williamdafoe': 35685, 'williamsmpaa': 35686, 'willson': 35687, 'wilmer': 35688, 'wilmington': 35689, 'wilt': 35690, 'wilted': 35691, 'wimmin': 35692, 'winces': 35693, 'winches': 35694, 'wincing': 35695, 'windbag': 35696, 'winde': 35697, 'windmill': 35698, 'windon': 35699, 'windswept': 35700, 'windup': 35701, 'winfield': 35702, 'winger': 35703, 'wingman': 35704, 'winifred': 35705, 'wining': 35706, 'winless': 35707, 'winn': 35708, 'winnable': 35709, 'winnebago': 35710, 'winnfield': 35711, 'winnie': 35712, 'winningham': 35713, 'winslett': 35714, 'winsomely': 35715, 'winsomeness': 35716, 'wintery': 35717, 'winthrop': 35718, 'winwood': 35719, 'wiper': 35720, 'wipers': 35721, 'wiping': 35722, 'wiretaps': 35723, 'wiring': 35724, 'wiseacre': 35725, 'wised': 35726, 'wisened': 35727, 'wises': 35728, 'wishmaster': 35729, 'wispy': 35730, 'wissner': 35731, 'wistfully': 35732, 'withdrew': 35733, 'wither': 35734, 'withers': 35735, 'withhold': 35736, 'withholding': 35737, 'withing': 35738, 'withless': 35739, 'withverlaine': 35740, 'wittedness': 35741, 'wittiest': 35742, 'wittliff': 35743, 'witzky': 35744, 'witzy': 35745, 'wizzard': 35746, 'wkrp': 35747, 'wlodkowski': 35748, 'wojciech': 35749, 'woken': 35750, 'wolfe': 35751, 'womanfriend': 35752, 'womanized': 35753, 'womanly': 35754, 'womantic': 35755, 'womb': 35756, 'wonderbra': 35757, 'wonderully': 35758, 'wonderwhat': 35759, 'wongeight': 35760, 'wonsuk': 35761, 'woodies': 35762, 'woodland': 35763, 'woodside': 35764, 'woodstock': 35765, 'woodwinds': 35766, 'woof': 35767, 'wooing': 35768, 'wookie': 35769, 'woolf': 35770, 'woolly': 35771, 'woolrich': 35772, 'woolsley': 35773, 'woolworth': 35774, 'woos': 35775, 'wopr': 35776, 'worded': 35777, 'wordless': 35778, 'wordly': 35779, 'wordplay': 35780, 'workable': 35781, 'workaholics': 35782, 'workhorse': 35783, 'workload': 35784, 'workmates': 35785, 'workplaces': 35786, 'workweek': 35787, 'worldthe': 35788, 'worldview': 35789, 'worms': 35790, 'wormwood': 35791, 'wormwoods': 35792, 'worriedly': 35793, 'worrys': 35794, 'worshiping': 35795, 'worshippers': 35796, 'worshipping': 35797, 'worthiness': 35798, 'woud': 35799, 'woulda': 35800, 'wounding': 35801, 'wowing': 35802, 'wows': 35803, 'wowzers': 35804, 'wrack': 35805, 'wracked': 35806, 'wrench': 35807, 'wrenched': 35808, 'wrencher': 35809, 'wrights': 35810, 'wrinkle': 35811, 'wrinkled': 35812, 'wristed': 35813, 'writed': 35814, 'writerly': 35815, 'writeup': 35816, 'writhing': 35817, 'writihing': 35818, 'wrongdoings': 35819, 'wrongheaded': 35820, 'wrongness': 35821, 'ws': 35822, 'wu': 35823, 'wuhrer': 35824, 'wuthering': 35825, 'wwi': 35826, 'wyat': 35827, 'wyatts': 35828, 'wylde': 35829, 'xander': 35830, 'xenia': 35831, 'xenophobe': 35832, 'xenophobic': 35833, 'xenophon': 35834, 'xer': 35835, 'xerox': 35836, 'xeroxed': 35837, 'xeroxes': 35838, 'xfx': 35839, 'xiaoguang': 35840, 'xiii': 35841, 'xmas': 35842, 'xref': 35843, 'xtc': 35844, 'xv': 35845, 'xxv': 35846, 'xxx': 35847, 'yak': 35848, 'yaknow': 35849, 'yakov': 35850, 'yam': 35851, 'yamazaki': 35852, 'yank': 35853, 'yankees': 35854, 'yankovich': 35855, 'yanne': 35856, 'yanni': 35857, 'yapping': 35858, 'yaps': 35859, 'yar': 35860, 'yasmeen': 35861, 'yasuoka': 35862, 'yau': 35863, 'yavin': 35864, 'yawk': 35865, 'yeardly': 35866, 'yech': 35867, 'yeeeeah': 35868, 'yeehawing': 35869, 'yellows': 35870, 'yeoman': 35871, 'yeomen': 35872, 'yer': 35873, 'yeshiva': 35874, 'yessuh': 35875, 'yevgeny': 35876, 'yglesias': 35877, 'yi': 35878, 'yielding': 35879, 'yim': 35880, 'yimnever': 35881, 'yippee': 35882, 'yitzak': 35883, 'yitzhak': 35884, 'yogi': 35885, 'yokel': 35886, 'yoko': 35887, 'yolande': 35888, 'yon': 35889, 'yonezo': 35890, 'yong': 35891, 'yonkers': 35892, 'yoram': 35893, 'yore': 35894, 'yorick': 35895, 'yorke': 35896, 'yosarian': 35897, 'yoshi': 35898, 'yoshio': 35899, 'youare': 35900, 'youfailed': 35901, 'youhappy': 35902, 'youname': 35903, 'youngers': 35904, 'youngstein': 35905, 'yourfilm': 35906, 'yourselfer': 35907, 'youshouldn': 35908, 'youull': 35909, 'yowza': 35910, 'ytv': 35911, 'yuckity': 35912, 'yucks': 35913, 'yucky': 35914, 'yugoslavian': 35915, 'yugoslavians': 35916, 'yuji': 35917, 'yuor': 35918, 'yuppy': 35919, 'yvette': 35920, 'yvonne': 35921, 'za': 35922, 'zaentz': 35923, 'zaftig': 35924, 'zagged': 35925, 'zags': 35926, 'zakk': 35927, 'zamora': 35928, 'zangaro': 35929, 'zanier': 35930, 'zanin': 35931, 'zant': 35932, 'zap': 35933, 'zappa': 35934, 'zar': 35935, 'zdenek': 35936, 'zealot': 35937, 'zealots': 35938, 'zealously': 35939, 'zealousness': 35940, 'zed': 35941, 'zeit': 35942, 'zeke': 35943, 'zelig': 35944, 'zeljko': 35945, 'zelweggar': 35946, 'zemecki': 35947, 'zemekis': 35948, 'zephram': 35949, 'zephyr': 35950, 'zeroing': 35951, 'zesty': 35952, 'zhuangzhuang': 35953, 'zi': 35954, 'ziegler': 35955, 'ziembicki': 35956, 'zigged': 35957, 'zigs': 35958, 'zigzagged': 35959, 'zillion': 35960, 'zimbabwe': 35961, 'zimmely': 35962, 'zinnemman': 35963, 'zinnia': 35964, 'zippers': 35965, 'zips': 35966, 'ziyi': 35967, 'zoologists': 35968, 'zophres': 35969, 'zsigmond': 35970, 'zuko': 35971, 'zukovsky': 35972, 'zulu': 35973, 'zurg': 35974, 'zus': 35975, 'zweibel': 35976, 'zzzzzzz': 35977})\n"
     ]
    }
   ],
   "source": [
    "# 建立字典\n",
    "TEXT.build_vocab(train_data)\n",
    "LABEL.build_vocab(train_data)\n",
    "\n",
    "print(f\"Vocabularies of index 0-5: {TEXT.vocab.itos[:10]} \\n\")\n",
    "print(f\"words to index {TEXT.vocab.stoi}\")"
   ]
  },
  {
   "cell_type": "code",
   "execution_count": 24,
   "metadata": {},
   "outputs": [],
   "source": [
    "train_iter, test_iter = data.Iterator(dataset=train_data, batch_size=2, repeat=False, sort_key=lambda ex:len(ex.text)), data.Iterator(dataset=test_data, batch_size=2, repeat=False, sort_key=lambda ex:len(ex.text))"
   ]
  },
  {
   "cell_type": "code",
   "execution_count": 25,
   "metadata": {},
   "outputs": [
    {
     "output_type": "stream",
     "name": "stdout",
     "text": [
      "tensor([[1.7000e+01, 4.0000e+01],\n        [1.0500e+03, 2.2000e+01],\n        [8.3170e+03, 8.0200e+02],\n        ...,\n        [1.0000e+00, 1.0000e+01],\n        [1.0000e+00, 6.0000e+00],\n        [1.0000e+00, 3.4200e+02]], dtype=torch.float64) torch.Size([1107, 2])\ntensor([1., 1.]) torch.Size([2])\ntensor([[4.0000e+01, 2.4910e+03],\n        [1.6400e+02, 5.1000e+02],\n        [2.3000e+01, 5.6000e+02],\n        ...,\n        [1.0000e+00, 5.0000e+00],\n        [1.0000e+00, 1.0937e+04],\n        [1.0000e+00, 3.8780e+03]], dtype=torch.float64) torch.Size([1095, 2])\ntensor([0., 0.]) torch.Size([2])\ntensor([[8.2430e+03, 1.7200e+02],\n        [2.0000e+00, 6.6100e+02],\n        [3.8500e+02, 7.3900e+02],\n        ...,\n        [1.0000e+00, 7.3900e+02],\n        [1.0000e+00, 6.9800e+02],\n        [1.0000e+00, 3.2846e+04]], dtype=torch.float64) torch.Size([995, 2])\ntensor([1., 0.]) torch.Size([2])\n"
     ]
    }
   ],
   "source": [
    "i = 0\n",
    "for train_batch in train_iter:\n",
    "    print(train_batch.text, train_batch.text.shape)\n",
    "    print(train_batch.label, train_batch.label.shape)\n",
    "    i+=1\n",
    "    if i == 3:\n",
    "        break"
   ]
  },
  {
   "cell_type": "code",
   "execution_count": null,
   "metadata": {},
   "outputs": [],
   "source": []
  }
 ],
 "metadata": {
  "kernelspec": {
   "name": "python3",
   "display_name": "Python 3.7.3 64-bit ('tf21g': conda)",
   "metadata": {
    "interpreter": {
     "hash": "bce34ad92f12188bdbde6c4d0d0df6759e2da82e2ea2ad01676467783730534f"
    }
   }
  },
  "language_info": {
   "codemirror_mode": {
    "name": "ipython",
    "version": 3
   },
   "file_extension": ".py",
   "mimetype": "text/x-python",
   "name": "python",
   "nbconvert_exporter": "python",
   "pygments_lexer": "ipython3",
   "version": "3.7.3-final"
  }
 },
 "nbformat": 4,
 "nbformat_minor": 2
}
