{
 "cells": [
  {
   "cell_type": "markdown",
   "metadata": {},
   "source": [
    "## 第一部分：了解 nn.Module的基本操作"
   ]
  },
  {
   "cell_type": "code",
   "execution_count": 2,
   "metadata": {},
   "outputs": [],
   "source": [
    "import torch\n",
    "import torch.nn as nn\n",
    "import torchvision.models as models\n",
    "import torch.nn.functional as F\n",
    "import numpy as np"
   ]
  },
  {
   "cell_type": "code",
   "execution_count": 3,
   "metadata": {},
   "outputs": [],
   "source": [
    "model = models.resnet18()"
   ]
  },
  {
   "cell_type": "markdown",
   "metadata": {},
   "source": [
    "### 打印出 model底下所有 parameters 的 name 以及對應的 shape "
   ]
  },
  {
   "cell_type": "code",
   "execution_count": 4,
   "metadata": {
    "tags": []
   },
   "outputs": [
    {
     "output_type": "stream",
     "name": "stdout",
     "text": [
      "conv1.weight, torch.Size([64, 3, 7, 7])\nbn1.weight, torch.Size([64])\nbn1.bias, torch.Size([64])\nlayer1.0.conv1.weight, torch.Size([64, 64, 3, 3])\nlayer1.0.bn1.weight, torch.Size([64])\nlayer1.0.bn1.bias, torch.Size([64])\nlayer1.0.conv2.weight, torch.Size([64, 64, 3, 3])\nlayer1.0.bn2.weight, torch.Size([64])\nlayer1.0.bn2.bias, torch.Size([64])\nlayer1.1.conv1.weight, torch.Size([64, 64, 3, 3])\nlayer1.1.bn1.weight, torch.Size([64])\nlayer1.1.bn1.bias, torch.Size([64])\nlayer1.1.conv2.weight, torch.Size([64, 64, 3, 3])\nlayer1.1.bn2.weight, torch.Size([64])\nlayer1.1.bn2.bias, torch.Size([64])\nlayer2.0.conv1.weight, torch.Size([128, 64, 3, 3])\nlayer2.0.bn1.weight, torch.Size([128])\nlayer2.0.bn1.bias, torch.Size([128])\nlayer2.0.conv2.weight, torch.Size([128, 128, 3, 3])\nlayer2.0.bn2.weight, torch.Size([128])\nlayer2.0.bn2.bias, torch.Size([128])\nlayer2.0.downsample.0.weight, torch.Size([128, 64, 1, 1])\nlayer2.0.downsample.1.weight, torch.Size([128])\nlayer2.0.downsample.1.bias, torch.Size([128])\nlayer2.1.conv1.weight, torch.Size([128, 128, 3, 3])\nlayer2.1.bn1.weight, torch.Size([128])\nlayer2.1.bn1.bias, torch.Size([128])\nlayer2.1.conv2.weight, torch.Size([128, 128, 3, 3])\nlayer2.1.bn2.weight, torch.Size([128])\nlayer2.1.bn2.bias, torch.Size([128])\nlayer3.0.conv1.weight, torch.Size([256, 128, 3, 3])\nlayer3.0.bn1.weight, torch.Size([256])\nlayer3.0.bn1.bias, torch.Size([256])\nlayer3.0.conv2.weight, torch.Size([256, 256, 3, 3])\nlayer3.0.bn2.weight, torch.Size([256])\nlayer3.0.bn2.bias, torch.Size([256])\nlayer3.0.downsample.0.weight, torch.Size([256, 128, 1, 1])\nlayer3.0.downsample.1.weight, torch.Size([256])\nlayer3.0.downsample.1.bias, torch.Size([256])\nlayer3.1.conv1.weight, torch.Size([256, 256, 3, 3])\nlayer3.1.bn1.weight, torch.Size([256])\nlayer3.1.bn1.bias, torch.Size([256])\nlayer3.1.conv2.weight, torch.Size([256, 256, 3, 3])\nlayer3.1.bn2.weight, torch.Size([256])\nlayer3.1.bn2.bias, torch.Size([256])\nlayer4.0.conv1.weight, torch.Size([512, 256, 3, 3])\nlayer4.0.bn1.weight, torch.Size([512])\nlayer4.0.bn1.bias, torch.Size([512])\nlayer4.0.conv2.weight, torch.Size([512, 512, 3, 3])\nlayer4.0.bn2.weight, torch.Size([512])\nlayer4.0.bn2.bias, torch.Size([512])\nlayer4.0.downsample.0.weight, torch.Size([512, 256, 1, 1])\nlayer4.0.downsample.1.weight, torch.Size([512])\nlayer4.0.downsample.1.bias, torch.Size([512])\nlayer4.1.conv1.weight, torch.Size([512, 512, 3, 3])\nlayer4.1.bn1.weight, torch.Size([512])\nlayer4.1.bn1.bias, torch.Size([512])\nlayer4.1.conv2.weight, torch.Size([512, 512, 3, 3])\nlayer4.1.bn2.weight, torch.Size([512])\nlayer4.1.bn2.bias, torch.Size([512])\nfc.weight, torch.Size([1000, 512])\nfc.bias, torch.Size([1000])\n"
     ]
    }
   ],
   "source": [
    "for name, param in model.named_parameters():\n",
    "    print(f'{name}, {param.shape}')"
   ]
  },
  {
   "cell_type": "markdown",
   "metadata": {},
   "source": [
    "### 為了使 forward propagation 加速 並降低 memory 使用量，請將所有 parameters 的requires_grad 關閉，關閉之後執行  forward propagation"
   ]
  },
  {
   "cell_type": "code",
   "execution_count": 6,
   "metadata": {},
   "outputs": [],
   "source": [
    "input_ = torch.randn(1, 3, 128, 128)"
   ]
  },
  {
   "cell_type": "code",
   "execution_count": 5,
   "metadata": {},
   "outputs": [],
   "source": [
    "for param in model.parameters():\n",
    "    param.requires_grad=False"
   ]
  },
  {
   "cell_type": "code",
   "execution_count": 7,
   "metadata": {},
   "outputs": [
    {
     "output_type": "stream",
     "name": "stdout",
     "text": [
      "torch.Size([1, 1000])\n"
     ]
    }
   ],
   "source": [
    "output = model(input_)\n",
    "print(output.shape)"
   ]
  },
  {
   "cell_type": "markdown",
   "metadata": {},
   "source": [
    "## 第二部分：依照指令，以較簡潔的方式搭建出模型"
   ]
  },
  {
   "cell_type": "markdown",
   "metadata": {},
   "source": [
    "* input_shape = torch.Size([10, 12])\n",
    "* 先經過一層 nn.Linear(12, 10)\n",
    "* 經過10層 nn.Linear(10, 10)\n",
    "* 最後經過 nn.Linear(10, 3) 輸出\n",
    "* 每一個 nn.Linear過完後要先經過 nn.BatchNorm1d 才能到下一層，輸出層不用\n"
   ]
  },
  {
   "cell_type": "code",
   "execution_count": 8,
   "metadata": {},
   "outputs": [],
   "source": [
    "input_ = torch.randn(10,12)\n",
    "## 示範\n",
    "Linear = nn.Linear(12,10)\n",
    "BN = nn.BatchNorm1d(10)"
   ]
  },
  {
   "cell_type": "code",
   "execution_count": 9,
   "metadata": {},
   "outputs": [],
   "source": [
    "class Model(nn.Module):\n",
    "    def __init__(self):\n",
    "        super(Model, self).__init__()\n",
    "        self.sequential = nn.Sequential(nn.Linear(12,10), nn.BatchNorm1d(10))\n",
    "        self.repeat_linear = nn.ModuleList([nn.Sequential(nn.Linear(10, 10), nn.BatchNorm1d(10)) for _ in range(10)])\n",
    "        self.output = nn.Linear(10,3)\n",
    "\n",
    "    def forward(self, x):\n",
    "        x = self.sequential(x)\n",
    "        for module in self.repeat_linear:\n",
    "            x = module(x)\n",
    "        x = self.output(x)\n",
    "        return x"
   ]
  },
  {
   "cell_type": "code",
   "execution_count": 10,
   "metadata": {},
   "outputs": [],
   "source": [
    "model = Model()"
   ]
  },
  {
   "cell_type": "code",
   "execution_count": 11,
   "metadata": {},
   "outputs": [
    {
     "output_type": "execute_result",
     "data": {
      "text/plain": [
       "Model(\n",
       "  (sequential): Sequential(\n",
       "    (0): Linear(in_features=12, out_features=10, bias=True)\n",
       "    (1): BatchNorm1d(10, eps=1e-05, momentum=0.1, affine=True, track_running_stats=True)\n",
       "  )\n",
       "  (repeat_linear): ModuleList(\n",
       "    (0): Sequential(\n",
       "      (0): Linear(in_features=10, out_features=10, bias=True)\n",
       "      (1): BatchNorm1d(10, eps=1e-05, momentum=0.1, affine=True, track_running_stats=True)\n",
       "    )\n",
       "    (1): Sequential(\n",
       "      (0): Linear(in_features=10, out_features=10, bias=True)\n",
       "      (1): BatchNorm1d(10, eps=1e-05, momentum=0.1, affine=True, track_running_stats=True)\n",
       "    )\n",
       "    (2): Sequential(\n",
       "      (0): Linear(in_features=10, out_features=10, bias=True)\n",
       "      (1): BatchNorm1d(10, eps=1e-05, momentum=0.1, affine=True, track_running_stats=True)\n",
       "    )\n",
       "    (3): Sequential(\n",
       "      (0): Linear(in_features=10, out_features=10, bias=True)\n",
       "      (1): BatchNorm1d(10, eps=1e-05, momentum=0.1, affine=True, track_running_stats=True)\n",
       "    )\n",
       "    (4): Sequential(\n",
       "      (0): Linear(in_features=10, out_features=10, bias=True)\n",
       "      (1): BatchNorm1d(10, eps=1e-05, momentum=0.1, affine=True, track_running_stats=True)\n",
       "    )\n",
       "    (5): Sequential(\n",
       "      (0): Linear(in_features=10, out_features=10, bias=True)\n",
       "      (1): BatchNorm1d(10, eps=1e-05, momentum=0.1, affine=True, track_running_stats=True)\n",
       "    )\n",
       "    (6): Sequential(\n",
       "      (0): Linear(in_features=10, out_features=10, bias=True)\n",
       "      (1): BatchNorm1d(10, eps=1e-05, momentum=0.1, affine=True, track_running_stats=True)\n",
       "    )\n",
       "    (7): Sequential(\n",
       "      (0): Linear(in_features=10, out_features=10, bias=True)\n",
       "      (1): BatchNorm1d(10, eps=1e-05, momentum=0.1, affine=True, track_running_stats=True)\n",
       "    )\n",
       "    (8): Sequential(\n",
       "      (0): Linear(in_features=10, out_features=10, bias=True)\n",
       "      (1): BatchNorm1d(10, eps=1e-05, momentum=0.1, affine=True, track_running_stats=True)\n",
       "    )\n",
       "    (9): Sequential(\n",
       "      (0): Linear(in_features=10, out_features=10, bias=True)\n",
       "      (1): BatchNorm1d(10, eps=1e-05, momentum=0.1, affine=True, track_running_stats=True)\n",
       "    )\n",
       "  )\n",
       "  (output): Linear(in_features=10, out_features=3, bias=True)\n",
       ")"
      ]
     },
     "metadata": {},
     "execution_count": 11
    }
   ],
   "source": [
    "model"
   ]
  },
  {
   "cell_type": "code",
   "execution_count": 12,
   "metadata": {},
   "outputs": [],
   "source": [
    "input_ = torch.randn(10,12)\n",
    "outupt = model(input_)"
   ]
  },
  {
   "cell_type": "code",
   "execution_count": 13,
   "metadata": {},
   "outputs": [
    {
     "output_type": "execute_result",
     "data": {
      "text/plain": [
       "tensor([[ 0.4854,  0.1840,  0.0306],\n",
       "        [-0.7732,  0.2507,  0.0859],\n",
       "        [-0.5564, -0.1432,  0.1806],\n",
       "        [ 0.6725,  0.0359, -0.1217],\n",
       "        [ 0.3243, -0.5029, -0.1981],\n",
       "        [ 1.5090, -0.0291, -0.3520],\n",
       "        [-0.5110, -0.2988,  0.2223],\n",
       "        [ 1.5871, -0.9768,  0.1228],\n",
       "        [-0.7778, -0.0967, -0.1984],\n",
       "        [ 0.6692,  0.0564, -0.0704]], grad_fn=<AddmmBackward>)"
      ]
     },
     "metadata": {},
     "execution_count": 13
    }
   ],
   "source": [
    "outupt"
   ]
  },
  {
   "cell_type": "code",
   "execution_count": null,
   "metadata": {},
   "outputs": [],
   "source": []
  }
 ],
 "metadata": {
  "kernelspec": {
   "display_name": "Python 3",
   "language": "python",
   "name": "python3"
  },
  "language_info": {
   "codemirror_mode": {
    "name": "ipython",
    "version": 3
   },
   "file_extension": ".py",
   "mimetype": "text/x-python",
   "name": "python",
   "nbconvert_exporter": "python",
   "pygments_lexer": "ipython3",
   "version": "3.7.3-final"
  }
 },
 "nbformat": 4,
 "nbformat_minor": 2
}
