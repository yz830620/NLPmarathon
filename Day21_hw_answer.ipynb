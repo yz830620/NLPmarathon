{
 "metadata": {
  "language_info": {
   "codemirror_mode": {
    "name": "ipython",
    "version": 3
   },
   "file_extension": ".py",
   "mimetype": "text/x-python",
   "name": "python",
   "nbconvert_exporter": "python",
   "pygments_lexer": "ipython3",
   "version": 3
  },
  "orig_nbformat": 2
 },
 "nbformat": 4,
 "nbformat_minor": 2,
 "cells": [
  {
   "source": [
    "思考題： 為什麼特徵獨立的假設足以讓 Naive Bayes 被稱為 Naive?"
   ],
   "cell_type": "markdown",
   "metadata": {}
  },
  {
   "source": [
    "答案，實際上，上下文很容易互相影響，比如前文可能是情緒性字眼後面可能就會連接抱怨，前文提到公司可能後面會提到工作或是薪水，但Naive Bayes有趣的地方是，不同於想像中的前後關係顯著影響結果。如此簡單的naive方法卻能得到超乎想像的效果，這也是讓人覺得震驚好用的部分，而如果要考慮文字順序特性可能就要用複雜的圖論方法，如結巴中使用的HMM或是維托比等動態規劃方法，問題就會複雜很多。簡單的naive bayes 簡單好用"
   ],
   "cell_type": "markdown",
   "metadata": {}
  }
 ]
}