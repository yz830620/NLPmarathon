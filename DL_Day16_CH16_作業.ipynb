{
 "cells": [
  {
   "cell_type": "markdown",
   "metadata": {},
   "source": [
    "# 作業 : 調整 word2vec 模型的不同訓練參數"
   ]
  },
  {
   "cell_type": "markdown",
   "metadata": {},
   "source": [
    "# [作業目標]\n",
    "- 調整 word2vec 模型的不同參數, 分別觀察效果並比較"
   ]
  },
  {
   "cell_type": "markdown",
   "metadata": {},
   "source": [
    "# [作業重點]\n",
    "- 調整 word2vec 模型的不同訓練參數, 分別觀察效果並比較"
   ]
  },
  {
   "cell_type": "code",
   "execution_count": 1,
   "metadata": {},
   "outputs": [],
   "source": [
    "# 載入 gensim 與 word2vec 模型\n",
    "import gensim\n",
    "from gensim.models import word2vec\n",
    "\n",
    "# 忽略警告訊息\n",
    "import warnings\n",
    "warnings.filterwarnings(\"ignore\")"
   ]
  },
  {
   "cell_type": "markdown",
   "metadata": {},
   "source": [
    "# Word2Vec 訓練參數\n",
    "- size : 詞向量的維度\n",
    "- min_count : 最小次數，一個詞出現的次數若小於 min_count，則拋棄不參與訓練。\n",
    "- window : 訓練窗格大小，也就是一個詞在看上下文關係時，上下應該各看幾個字的意思。\n",
    "- 更多參數說明，請參閱官方文件\n",
    "https://radimrehurek.com/gensim/models/word2vec.html#gensim.models.word2vec.Text8Corpus"
   ]
  },
  {
   "cell_type": "code",
   "execution_count": 16,
   "metadata": {},
   "outputs": [],
   "source": [
    "# 使用 gensim 訓練 word2vec 詞向量\n",
    "sentences = word2vec.Text8Corpus('text8/text8')\n",
    "#model = word2vec.Word2Vec(sentences, size=10)\n",
    "model = word2vec.Word2Vec(sentences, size=10, min_count=10, window=3,workers=16)\n",
    "#發現當workers 不同結果差很多"
   ]
  },
  {
   "cell_type": "code",
   "execution_count": 18,
   "metadata": {},
   "outputs": [
    {
     "output_type": "execute_result",
     "data": {
      "text/plain": [
       "[('husband', 0.9542504549026489),\n",
       " ('angels', 0.9453243613243103),\n",
       " ('man', 0.9392859935760498),\n",
       " ('brother', 0.9388508200645447),\n",
       " ('daughter', 0.930543065071106),\n",
       " ('frigg', 0.9180324077606201),\n",
       " ('heracles', 0.910007894039154),\n",
       " ('odin', 0.9087036848068237),\n",
       " ('mother', 0.9055594205856323),\n",
       " ('agrippina', 0.9046714305877686)]"
      ]
     },
     "metadata": {},
     "execution_count": 18
    }
   ],
   "source": [
    "# 顯示最相近的字彙\n",
    "model.most_similar(['woman'])"
   ]
  },
  {
   "cell_type": "code",
   "execution_count": 19,
   "metadata": {},
   "outputs": [
    {
     "output_type": "execute_result",
     "data": {
      "text/plain": [
       "[('consul', 0.964065432548523),\n",
       " ('tsar', 0.9523693919181824),\n",
       " ('crowned', 0.9470411539077759),\n",
       " ('constantine', 0.9423505067825317),\n",
       " ('augustus', 0.9329397678375244)]"
      ]
     },
     "metadata": {},
     "execution_count": 19
    }
   ],
   "source": [
    "# 顯示最相近的字彙(附加反義詞)\n",
    "model.most_similar(positive=['woman', 'king'], negative=['man'], topn=5)"
   ]
  },
  {
   "cell_type": "code",
   "execution_count": 20,
   "metadata": {},
   "outputs": [
    {
     "output_type": "execute_result",
     "data": {
      "text/plain": [
       "'cereal'"
      ]
     },
     "metadata": {},
     "execution_count": 20
    }
   ],
   "source": [
    "# 挑選最不相同的字彙\n",
    "model.wv.doesnt_match(\"breakfast cereal dinner lunch\".split())"
   ]
  },
  {
   "cell_type": "code",
   "execution_count": 21,
   "metadata": {},
   "outputs": [
    {
     "output_type": "execute_result",
     "data": {
      "text/plain": [
       "0.93928605"
      ]
     },
     "metadata": {},
     "execution_count": 21
    }
   ],
   "source": [
    "# 顯示字彙間的相似性\n",
    "model.wv.similarity('woman', 'man')"
   ]
  },
  {
   "cell_type": "code",
   "execution_count": 22,
   "metadata": {},
   "outputs": [
    {
     "output_type": "execute_result",
     "data": {
      "text/plain": [
       "array([ 3.7398643 , -0.3329158 , -2.3946037 ,  1.3269093 ,  0.2032283 ,\n",
       "        0.39805663, -1.4278053 ,  3.9403017 , -3.85228   ,  0.09433334],\n",
       "      dtype=float32)"
      ]
     },
     "metadata": {},
     "execution_count": 22
    }
   ],
   "source": [
    "# 顯示字彙的詞向量\n",
    "model['computer']"
   ]
  },
  {
   "cell_type": "code",
   "execution_count": null,
   "metadata": {},
   "outputs": [],
   "source": []
  }
 ],
 "metadata": {
  "kernelspec": {
   "name": "python3",
   "display_name": "Python 3.7.3 64-bit ('tf21g': conda)",
   "metadata": {
    "interpreter": {
     "hash": "bce34ad92f12188bdbde6c4d0d0df6759e2da82e2ea2ad01676467783730534f"
    }
   }
  },
  "language_info": {
   "codemirror_mode": {
    "name": "ipython",
    "version": 3
   },
   "file_extension": ".py",
   "mimetype": "text/x-python",
   "name": "python",
   "nbconvert_exporter": "python",
   "pygments_lexer": "ipython3",
   "version": "3.7.3-final"
  }
 },
 "nbformat": 4,
 "nbformat_minor": 2
}