{
 "cells": [
  {
   "cell_type": "markdown",
   "metadata": {},
   "source": [
    "### 作業目的: 實作樹型模型\n",
    "\n",
    "在本次課程中實作了以Entropy計算訊息增益的決策樹模型，而計算訊息增益的方法除了Entropy只外還有Gini。因此本次作業希望讀者實作以Gini計算\n",
    "\n",
    "訊息增益，且基於課程的決策樹模型建構隨機森林模型。\n",
    "\n",
    "在作業資料夾中的`decision_tree_functions.py`檔案有在作業中實作的所有函式，在實作作業中可以充分利用已經寫好的函式"
   ]
  },
  {
   "cell_type": "markdown",
   "metadata": {},
   "source": [
    "### Q1: 使用Gini計算訊息增益\n",
    "\n",
    "$$\n",
    "Gini = \\sum_{i=1}^cp(i)(1-p(i)) = 1 - \\sum_{i=1}^cp(i)^2\n",
    "$$"
   ]
  },
  {
   "cell_type": "code",
   "execution_count": 18,
   "metadata": {},
   "outputs": [],
   "source": [
    "import pandas as pd\n",
    "import numpy as np\n",
    "from decision_tree_functions import decision_tree, train_test_split\n",
    "import random\n"
   ]
  },
  {
   "cell_type": "code",
   "execution_count": 89,
   "metadata": {},
   "outputs": [
    {
     "output_type": "execute_result",
     "data": {
      "text/plain": [
       "    color  diameter  label\n",
       "0   Green       3.1  Apple\n",
       "1     Red       3.2  Apple\n",
       "2     Red       1.2  Grape\n",
       "3     Red       1.0  Grape\n",
       "4  Yellow       3.3  Lemon"
      ],
      "text/html": "<div>\n<style scoped>\n    .dataframe tbody tr th:only-of-type {\n        vertical-align: middle;\n    }\n\n    .dataframe tbody tr th {\n        vertical-align: top;\n    }\n\n    .dataframe thead th {\n        text-align: right;\n    }\n</style>\n<table border=\"1\" class=\"dataframe\">\n  <thead>\n    <tr style=\"text-align: right;\">\n      <th></th>\n      <th>color</th>\n      <th>diameter</th>\n      <th>label</th>\n    </tr>\n  </thead>\n  <tbody>\n    <tr>\n      <th>0</th>\n      <td>Green</td>\n      <td>3.1</td>\n      <td>Apple</td>\n    </tr>\n    <tr>\n      <th>1</th>\n      <td>Red</td>\n      <td>3.2</td>\n      <td>Apple</td>\n    </tr>\n    <tr>\n      <th>2</th>\n      <td>Red</td>\n      <td>1.2</td>\n      <td>Grape</td>\n    </tr>\n    <tr>\n      <th>3</th>\n      <td>Red</td>\n      <td>1.0</td>\n      <td>Grape</td>\n    </tr>\n    <tr>\n      <th>4</th>\n      <td>Yellow</td>\n      <td>3.3</td>\n      <td>Lemon</td>\n    </tr>\n  </tbody>\n</table>\n</div>"
     },
     "metadata": {},
     "execution_count": 89
    }
   ],
   "source": [
    "# 使用與課程中相同的假資料\n",
    "\n",
    "training_data = [\n",
    "    ['Green', 3.1, 'Apple'],\n",
    "    ['Red', 3.2, 'Apple'],\n",
    "    ['Red', 1.2, 'Grape'],\n",
    "    ['Red', 1, 'Grape'],\n",
    "    ['Yellow', 3.3, 'Lemon'],\n",
    "    ['Yellow', 3.1, 'Lemon'],\n",
    "    ['Green', 3, 'Apple'],\n",
    "    ['Red', 1.1, 'Grape'],\n",
    "    ['Yellow', 3, 'Lemon'],\n",
    "    ['Red', 1.2, 'Grape'],\n",
    "]\n",
    "\n",
    "header = [\"color\", \"diameter\", \"label\"]\n",
    "\n",
    "df = pd.DataFrame(data=training_data, columns=header)\n",
    "df.head()"
   ]
  },
  {
   "cell_type": "code",
   "execution_count": null,
   "metadata": {},
   "outputs": [],
   "source": [
    "def get_gini(class1, class2):\n",
    "    return 1 - ((class1/(class1+class2))**2 + (class2/(class1+class2))**2)"
   ]
  },
  {
   "cell_type": "code",
   "execution_count": 48,
   "metadata": {},
   "outputs": [],
   "source": [
    "#Gini impurity\n",
    "\n",
    "from collections import defaultdict\n",
    "def calculate_gini(data):\n",
    "    \n",
    "    #取的資料的label訊息\n",
    "    #print(data,'\\n')\n",
    "    labels = data[:, -1]\n",
    "    data_len = len(labels)\n",
    "    #取得所有輸入資料的獨立類別與其個數\n",
    "    counter = defaultdict(lambda: 1)\n",
    "    pos_dic = defaultdict(lambda: 1)\n",
    "    for i in labels:\n",
    "        counter[i]+=1\n",
    "    #計算機率\n",
    "    for i in counter.keys():\n",
    "        counter[i] = (counter[i]/data_len)**2\n",
    "    #計算gini impurity\n",
    "    gini = 1\n",
    "    for i in counter.keys():\n",
    "        gini -= counter[i]\n",
    "\n",
    "    return gini"
   ]
  },
  {
   "cell_type": "code",
   "execution_count": 50,
   "metadata": {},
   "outputs": [
    {
     "output_type": "execute_result",
     "data": {
      "text/plain": [
       "0.42999999999999994"
      ]
     },
     "metadata": {},
     "execution_count": 50
    }
   ],
   "source": [
    "calculate_gini(df.values)"
   ]
  },
  {
   "cell_type": "code",
   "execution_count": 33,
   "metadata": {},
   "outputs": [
    {
     "output_type": "execute_result",
     "data": {
      "text/plain": [
       "0    Apple\n",
       "1    Apple\n",
       "2    Grape\n",
       "3    Grape\n",
       "4    Lemon\n",
       "5    Lemon\n",
       "6    Apple\n",
       "7    Grape\n",
       "9    Grape\n",
       "Name: label, dtype: object"
      ]
     },
     "metadata": {},
     "execution_count": 33
    }
   ],
   "source": [
    "train_df['label']"
   ]
  },
  {
   "cell_type": "code",
   "execution_count": 142,
   "metadata": {},
   "outputs": [],
   "source": [
    "#分割資料集\n",
    "def train_test_split(df, test_size=0.1):\n",
    "    if isinstance(test_size, float):\n",
    "        test_size = round(len(df) * test_size)\n",
    "    indices = list(df.index)\n",
    "    test_indices = random.sample(population = indices, k=test_size)\n",
    "    test_df = df.loc[test_indices]\n",
    "    train_df = df.drop(test_indices)\n",
    "    return train_df, test_df\n",
    "train_df, test_df = train_test_split(df)\n",
    "\n",
    "#以Gini inpurity作為metric_function訓練決策樹\n",
    "tree = decision_tree(calculate_gini)\n",
    "tree0 = tree.fit(train_df)"
   ]
  },
  {
   "cell_type": "code",
   "execution_count": 151,
   "metadata": {},
   "outputs": [
    {
     "output_type": "stream",
     "name": "stdout",
     "text": [
      "{'diameter <= 1.2': ['Grape', {'color = Yellow': ['Lemon', 'Apple']}]}\n"
     ]
    },
    {
     "output_type": "execute_result",
     "data": {
      "text/plain": [
       "'Grape'"
      ]
     },
     "metadata": {},
     "execution_count": 151
    }
   ],
   "source": [
    "# 以建構好的樹進行預測\n",
    "sample = test_df.iloc[0]\n",
    "print(tree0)\n",
    "tree.pred(sample,tree0)"
   ]
  },
  {
   "cell_type": "code",
   "execution_count": 67,
   "metadata": {},
   "outputs": [
    {
     "output_type": "execute_result",
     "data": {
      "text/plain": [
       "color         Red\n",
       "diameter      1.2\n",
       "label       Grape\n",
       "Name: 9, dtype: object"
      ]
     },
     "metadata": {},
     "execution_count": 67
    }
   ],
   "source": [
    "sample"
   ]
  },
  {
   "cell_type": "markdown",
   "metadata": {},
   "source": [
    "### Q2: 實作隨機森林\n",
    "利用決策樹來實作隨機森林模型，讀者可參考隨機森林課程講義。\n",
    "\n",
    "此份作業只要求讀者實作隨機sample訓練資料，而隨機sample特徵進行訓練的部分，讀者可以參考`decision_tree_functions.py`中的`get_potential_splits`與`decision_tree`部分(新增參數`random_features`)"
   ]
  },
  {
   "cell_type": "code",
   "execution_count": 207,
   "metadata": {},
   "outputs": [],
   "source": [
    "from collections import defaultdict\n",
    "class random_forest():\n",
    "    '''Random forest model\n",
    "    Parameters\n",
    "    ----------\n",
    "    n_boostrap: int\n",
    "        number of samples to sample to train indivisual decision tree\n",
    "    n_tree: int\n",
    "        number of trees to form a forest\n",
    "    '''\n",
    "    \n",
    "    def __init__(self, n_bootstrap, n_trees, task_type, min_samples, max_depth, metric_function, n_features=None):\n",
    "        self.n_bootstrap = n_bootstrap\n",
    "        self.n_trees = n_trees\n",
    "        self.task_type = task_type\n",
    "        self.min_samples = min_samples\n",
    "        self.max_depth = max_depth\n",
    "        self.metric_function = metric_function\n",
    "        self.n_features = n_features\n",
    "    \n",
    "    def bootstrapping(self, train_df, n_bootstrap):\n",
    "        #sample data to be used to train individual tree\n",
    "        print('start bootstrapping')\n",
    "        print(list(train_df.index), n_bootstrap)\n",
    "        sample_index = random.sample(population=list(train_df.index), k=n_bootstrap)\n",
    "        print(sample_index)\n",
    "        df_bootstrapped = train_df.loc[sample_index]\n",
    "        print(df_bootstrapped)\n",
    "        \n",
    "        #avoid pick the samples with all the same label\n",
    "        counter = 0\n",
    "        while df_bootstrapped.iloc[:,-1].nunique() == 1:\n",
    "            sample_index = random.sample(population=list(train_df.index), k=n_bootstrap)\n",
    "            df_bootstrapped = train_df.loc[sample_index]\n",
    "            counter += 1\n",
    "            if counter == 5:\n",
    "                print('all label same for five, please check again')\n",
    "                break\n",
    "        print('end bootstrapping')\n",
    "        return df_bootstrapped\n",
    "    \n",
    "    def fit(self, train_df):\n",
    "        print('start fitting')\n",
    "        self.forest = []\n",
    "        \n",
    "        for i in range(self.n_trees):\n",
    "            df_bootstrapped = self.bootstrapping(train_df, self.n_bootstrap)\n",
    "            print('call fit for tree')\n",
    "            tree = decision_tree(calculate_gini)\n",
    "            tree0 = tree.fit(df_bootstrapped)\n",
    "            print('tree complete')\n",
    "            \n",
    "            self.forest.append(tree0)\n",
    "        print('finish fitting')\n",
    "        return self.forest\n",
    "    \n",
    "    def pred(self, test_df):\n",
    "        print('start predicting')\n",
    "        df_predictions = defaultdict(lambda: 0)\n",
    "        for tree0 in self.forest:\n",
    "            tree_ = decision_tree(calculate_gini)\n",
    "            df_predictions[tree.pred(test_df, tree0)] += 1\n",
    "        print(df_predictions.items())\n",
    "        df_predictions = pd.DataFrame.from_dict(df_predictions, orient='index',columns=['label'])\n",
    "        print(df_predictions)\n",
    "        \n",
    "        #majority voting\n",
    "        random_forest_predictions = df_predictions.nlargest(1,'label')\n",
    "        print('end predicting')\n",
    "        return random_forest_predictions.index[0]"
   ]
  },
  {
   "cell_type": "code",
   "execution_count": 208,
   "metadata": {},
   "outputs": [
    {
     "output_type": "stream",
     "name": "stdout",
     "text": [
      "start fitting\nstart bootstrapping\n[0, 2, 3, 4, 5, 6, 7, 9] 5\n[5, 7, 6, 2, 0]\n    color  diameter  label\n5  Yellow       3.1  Lemon\n7     Red       1.1  Grape\n6   Green       3.0  Apple\n2     Red       1.2  Grape\n0   Green       3.1  Apple\nend bootstrapping\ncall fit for tree\ntree complete\nstart bootstrapping\n[0, 2, 3, 4, 5, 6, 7, 9] 5\n[5, 0, 7, 3, 6]\n    color  diameter  label\n5  Yellow       3.1  Lemon\n0   Green       3.1  Apple\n7     Red       1.1  Grape\n3     Red       1.0  Grape\n6   Green       3.0  Apple\nend bootstrapping\ncall fit for tree\ntree complete\nstart bootstrapping\n[0, 2, 3, 4, 5, 6, 7, 9] 5\n[4, 2, 5, 7, 0]\n    color  diameter  label\n4  Yellow       3.3  Lemon\n2     Red       1.2  Grape\n5  Yellow       3.1  Lemon\n7     Red       1.1  Grape\n0   Green       3.1  Apple\nend bootstrapping\ncall fit for tree\ntree complete\nstart bootstrapping\n[0, 2, 3, 4, 5, 6, 7, 9] 5\n[3, 7, 2, 9, 4]\n    color  diameter  label\n3     Red       1.0  Grape\n7     Red       1.1  Grape\n2     Red       1.2  Grape\n9     Red       1.2  Grape\n4  Yellow       3.3  Lemon\nend bootstrapping\ncall fit for tree\ntree complete\nstart bootstrapping\n[0, 2, 3, 4, 5, 6, 7, 9] 5\n[3, 5, 6, 0, 7]\n    color  diameter  label\n3     Red       1.0  Grape\n5  Yellow       3.1  Lemon\n6   Green       3.0  Apple\n0   Green       3.1  Apple\n7     Red       1.1  Grape\nend bootstrapping\ncall fit for tree\ntree complete\nstart bootstrapping\n[0, 2, 3, 4, 5, 6, 7, 9] 5\n[0, 5, 3, 6, 7]\n    color  diameter  label\n0   Green       3.1  Apple\n5  Yellow       3.1  Lemon\n3     Red       1.0  Grape\n6   Green       3.0  Apple\n7     Red       1.1  Grape\nend bootstrapping\ncall fit for tree\ntree complete\nstart bootstrapping\n[0, 2, 3, 4, 5, 6, 7, 9] 5\n[7, 5, 6, 0, 2]\n    color  diameter  label\n7     Red       1.1  Grape\n5  Yellow       3.1  Lemon\n6   Green       3.0  Apple\n0   Green       3.1  Apple\n2     Red       1.2  Grape\nend bootstrapping\ncall fit for tree\ntree complete\nstart bootstrapping\n[0, 2, 3, 4, 5, 6, 7, 9] 5\n[9, 5, 3, 4, 2]\n    color  diameter  label\n9     Red       1.2  Grape\n5  Yellow       3.1  Lemon\n3     Red       1.0  Grape\n4  Yellow       3.3  Lemon\n2     Red       1.2  Grape\nend bootstrapping\ncall fit for tree\ntree complete\nstart bootstrapping\n[0, 2, 3, 4, 5, 6, 7, 9] 5\n[2, 5, 3, 0, 4]\n    color  diameter  label\n2     Red       1.2  Grape\n5  Yellow       3.1  Lemon\n3     Red       1.0  Grape\n0   Green       3.1  Apple\n4  Yellow       3.3  Lemon\nend bootstrapping\ncall fit for tree\ntree complete\nstart bootstrapping\n[0, 2, 3, 4, 5, 6, 7, 9] 5\n[4, 0, 2, 6, 9]\n    color  diameter  label\n4  Yellow       3.3  Lemon\n0   Green       3.1  Apple\n2     Red       1.2  Grape\n6   Green       3.0  Apple\n9     Red       1.2  Grape\nend bootstrapping\ncall fit for tree\ntree complete\nfinish fitting\n"
     ]
    },
    {
     "output_type": "execute_result",
     "data": {
      "text/plain": [
       "[{'diameter <= 1.2': ['Grape', {'color = Yellow': ['Lemon', 'Apple']}]},\n",
       " {'diameter <= 1.1': ['Grape', {'color = Yellow': ['Lemon', 'Apple']}]},\n",
       " {'diameter <= 1.2': ['Grape', {'color = Yellow': ['Lemon', 'Apple']}]},\n",
       " {'diameter <= 1.2': ['Grape', 'Lemon']},\n",
       " {'diameter <= 1.1': ['Grape', {'color = Yellow': ['Lemon', 'Apple']}]},\n",
       " {'diameter <= 1.1': ['Grape', {'color = Yellow': ['Lemon', 'Apple']}]},\n",
       " {'diameter <= 1.2': ['Grape', {'color = Yellow': ['Lemon', 'Apple']}]},\n",
       " {'diameter <= 1.2': ['Grape', 'Lemon']},\n",
       " {'diameter <= 1.2': ['Grape', {'color = Yellow': ['Lemon', 'Apple']}]},\n",
       " {'diameter <= 1.2': ['Grape', {'diameter <= 3.1': ['Apple', 'Lemon']}]}]"
      ]
     },
     "metadata": {},
     "execution_count": 208
    }
   ],
   "source": [
    "train_df, test_df = train_test_split(df, 0.2)\n",
    "\n",
    "#建立隨機森林模型\n",
    "forest = random_forest(n_bootstrap=5, n_trees=10, task_type='classification', min_samples=2, max_depth=5, metric_function=calculate_gini, n_features=None)\n",
    "\n",
    "forest.fit(train_df)"
   ]
  },
  {
   "cell_type": "code",
   "execution_count": 210,
   "metadata": {},
   "outputs": [
    {
     "output_type": "stream",
     "name": "stdout",
     "text": [
      "start predicting\ndict_items([('Apple', 7), ('Lemon', 3)])\n       label\nApple      7\nLemon      3\nend predicting\n"
     ]
    },
    {
     "output_type": "execute_result",
     "data": {
      "text/plain": [
       "'Apple'"
      ]
     },
     "metadata": {},
     "execution_count": 210
    }
   ],
   "source": [
    "#{'diameter <= 1.2': ['Grape', {'color = Yellow': ['Lemon', 'Apple']}]}\n",
    "forest.pred(test_df.iloc[1])"
   ]
  },
  {
   "cell_type": "code",
   "execution_count": 212,
   "metadata": {},
   "outputs": [
    {
     "output_type": "execute_result",
     "data": {
      "text/plain": [
       "color         Red\n",
       "diameter      3.2\n",
       "label       Apple\n",
       "Name: 1, dtype: object"
      ]
     },
     "metadata": {},
     "execution_count": 212
    }
   ],
   "source": [
    "test_df.iloc[1]"
   ]
  },
  {
   "cell_type": "code",
   "execution_count": null,
   "metadata": {},
   "outputs": [],
   "source": []
  }
 ],
 "metadata": {
  "kernelspec": {
   "name": "python3",
   "display_name": "Python 3.7.3 64-bit",
   "metadata": {
    "interpreter": {
     "hash": "31f2aee4e71d21fbe5cf8b01ff0e069b9275f58929596ceb00d14d90e3e16cd6"
    }
   }
  },
  "language_info": {
   "codemirror_mode": {
    "name": "ipython",
    "version": 3
   },
   "file_extension": ".py",
   "mimetype": "text/x-python",
   "name": "python",
   "nbconvert_exporter": "python",
   "pygments_lexer": "ipython3",
   "version": "3.7.3-final"
  }
 },
 "nbformat": 4,
 "nbformat_minor": 2
}