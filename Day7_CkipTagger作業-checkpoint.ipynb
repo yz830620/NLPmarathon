{
  "nbformat": 4,
  "nbformat_minor": 0,
  "metadata": {
    "kernelspec": {
      "display_name": "Python 3",
      "language": "python",
      "name": "python3"
    },
    "language_info": {
      "codemirror_mode": {
        "name": "ipython",
        "version": 3
      },
      "file_extension": ".py",
      "mimetype": "text/x-python",
      "name": "python",
      "nbconvert_exporter": "python",
      "pygments_lexer": "ipython3",
      "version": "3.7.4"
    },
    "colab": {
      "name": "ckiptagger.ipynb",
      "provenance": [],
      "collapsed_sections": [],
      "include_colab_link": true
    },
    "accelerator": "GPU"
  },
  "cells": [
    {
      "cell_type": "markdown",
      "metadata": {
        "id": "view-in-github",
        "colab_type": "text"
      },
      "source": [
        "<a href=\"https://colab.research.google.com/github/yz830620/NLPmarathon/blob/main/Day7_CkipTagger%E4%BD%9C%E6%A5%AD-checkpoint.ipynb\" target=\"_parent\"><img src=\"https://colab.research.google.com/assets/colab-badge.svg\" alt=\"Open In Colab\"/></a>"
      ]
    },
    {
      "cell_type": "code",
      "metadata": {
        "colab": {
          "base_uri": "https://localhost:8080/"
        },
        "id": "PUQU8PMQ_6rO",
        "outputId": "87f52268-961b-45b2-b5a6-ccb61bc033f0"
      },
      "source": [
        "!pip install -U ckiptagger[tfgpu,gdown]"
      ],
      "execution_count": 1,
      "outputs": [
        {
          "output_type": "stream",
          "text": [
            "Collecting ckiptagger[gdown,tfgpu]\n",
            "  Downloading https://files.pythonhosted.org/packages/6b/bc/5cbf8d019167d5e5e1775069fb8b71a08691ab847e2926bbe7dee9a19010/ckiptagger-0.2.1-py3-none-any.whl\n",
            "Requirement already satisfied, skipping upgrade: gdown; extra == \"gdown\" in /usr/local/lib/python3.6/dist-packages (from ckiptagger[gdown,tfgpu]) (3.6.4)\n",
            "Collecting tensorflow-gpu>=1.13.1; extra == \"tfgpu\"\n",
            "\u001b[?25l  Downloading https://files.pythonhosted.org/packages/18/99/ac32fd13d56e40d4c3e6150030132519997c0bb1f06f448d970e81b177e5/tensorflow_gpu-2.3.1-cp36-cp36m-manylinux2010_x86_64.whl (320.4MB)\n",
            "\u001b[K     |████████████████████████████████| 320.4MB 53kB/s \n",
            "\u001b[?25hRequirement already satisfied, skipping upgrade: six in /usr/local/lib/python3.6/dist-packages (from gdown; extra == \"gdown\"->ckiptagger[gdown,tfgpu]) (1.15.0)\n",
            "Requirement already satisfied, skipping upgrade: requests in /usr/local/lib/python3.6/dist-packages (from gdown; extra == \"gdown\"->ckiptagger[gdown,tfgpu]) (2.23.0)\n",
            "Requirement already satisfied, skipping upgrade: tqdm in /usr/local/lib/python3.6/dist-packages (from gdown; extra == \"gdown\"->ckiptagger[gdown,tfgpu]) (4.41.1)\n",
            "Requirement already satisfied, skipping upgrade: grpcio>=1.8.6 in /usr/local/lib/python3.6/dist-packages (from tensorflow-gpu>=1.13.1; extra == \"tfgpu\"->ckiptagger[gdown,tfgpu]) (1.33.2)\n",
            "Requirement already satisfied, skipping upgrade: numpy<1.19.0,>=1.16.0 in /usr/local/lib/python3.6/dist-packages (from tensorflow-gpu>=1.13.1; extra == \"tfgpu\"->ckiptagger[gdown,tfgpu]) (1.18.5)\n",
            "Requirement already satisfied, skipping upgrade: termcolor>=1.1.0 in /usr/local/lib/python3.6/dist-packages (from tensorflow-gpu>=1.13.1; extra == \"tfgpu\"->ckiptagger[gdown,tfgpu]) (1.1.0)\n",
            "Requirement already satisfied, skipping upgrade: astunparse==1.6.3 in /usr/local/lib/python3.6/dist-packages (from tensorflow-gpu>=1.13.1; extra == \"tfgpu\"->ckiptagger[gdown,tfgpu]) (1.6.3)\n",
            "Requirement already satisfied, skipping upgrade: wheel>=0.26 in /usr/local/lib/python3.6/dist-packages (from tensorflow-gpu>=1.13.1; extra == \"tfgpu\"->ckiptagger[gdown,tfgpu]) (0.35.1)\n",
            "Requirement already satisfied, skipping upgrade: protobuf>=3.9.2 in /usr/local/lib/python3.6/dist-packages (from tensorflow-gpu>=1.13.1; extra == \"tfgpu\"->ckiptagger[gdown,tfgpu]) (3.12.4)\n",
            "Requirement already satisfied, skipping upgrade: google-pasta>=0.1.8 in /usr/local/lib/python3.6/dist-packages (from tensorflow-gpu>=1.13.1; extra == \"tfgpu\"->ckiptagger[gdown,tfgpu]) (0.2.0)\n",
            "Requirement already satisfied, skipping upgrade: h5py<2.11.0,>=2.10.0 in /usr/local/lib/python3.6/dist-packages (from tensorflow-gpu>=1.13.1; extra == \"tfgpu\"->ckiptagger[gdown,tfgpu]) (2.10.0)\n",
            "Requirement already satisfied, skipping upgrade: absl-py>=0.7.0 in /usr/local/lib/python3.6/dist-packages (from tensorflow-gpu>=1.13.1; extra == \"tfgpu\"->ckiptagger[gdown,tfgpu]) (0.10.0)\n",
            "Requirement already satisfied, skipping upgrade: wrapt>=1.11.1 in /usr/local/lib/python3.6/dist-packages (from tensorflow-gpu>=1.13.1; extra == \"tfgpu\"->ckiptagger[gdown,tfgpu]) (1.12.1)\n",
            "Requirement already satisfied, skipping upgrade: tensorboard<3,>=2.3.0 in /usr/local/lib/python3.6/dist-packages (from tensorflow-gpu>=1.13.1; extra == \"tfgpu\"->ckiptagger[gdown,tfgpu]) (2.3.0)\n",
            "Requirement already satisfied, skipping upgrade: gast==0.3.3 in /usr/local/lib/python3.6/dist-packages (from tensorflow-gpu>=1.13.1; extra == \"tfgpu\"->ckiptagger[gdown,tfgpu]) (0.3.3)\n",
            "Requirement already satisfied, skipping upgrade: keras-preprocessing<1.2,>=1.1.1 in /usr/local/lib/python3.6/dist-packages (from tensorflow-gpu>=1.13.1; extra == \"tfgpu\"->ckiptagger[gdown,tfgpu]) (1.1.2)\n",
            "Requirement already satisfied, skipping upgrade: opt-einsum>=2.3.2 in /usr/local/lib/python3.6/dist-packages (from tensorflow-gpu>=1.13.1; extra == \"tfgpu\"->ckiptagger[gdown,tfgpu]) (3.3.0)\n",
            "Requirement already satisfied, skipping upgrade: tensorflow-estimator<2.4.0,>=2.3.0 in /usr/local/lib/python3.6/dist-packages (from tensorflow-gpu>=1.13.1; extra == \"tfgpu\"->ckiptagger[gdown,tfgpu]) (2.3.0)\n",
            "Requirement already satisfied, skipping upgrade: urllib3!=1.25.0,!=1.25.1,<1.26,>=1.21.1 in /usr/local/lib/python3.6/dist-packages (from requests->gdown; extra == \"gdown\"->ckiptagger[gdown,tfgpu]) (1.24.3)\n",
            "Requirement already satisfied, skipping upgrade: idna<3,>=2.5 in /usr/local/lib/python3.6/dist-packages (from requests->gdown; extra == \"gdown\"->ckiptagger[gdown,tfgpu]) (2.10)\n",
            "Requirement already satisfied, skipping upgrade: chardet<4,>=3.0.2 in /usr/local/lib/python3.6/dist-packages (from requests->gdown; extra == \"gdown\"->ckiptagger[gdown,tfgpu]) (3.0.4)\n",
            "Requirement already satisfied, skipping upgrade: certifi>=2017.4.17 in /usr/local/lib/python3.6/dist-packages (from requests->gdown; extra == \"gdown\"->ckiptagger[gdown,tfgpu]) (2020.11.8)\n",
            "Requirement already satisfied, skipping upgrade: setuptools in /usr/local/lib/python3.6/dist-packages (from protobuf>=3.9.2->tensorflow-gpu>=1.13.1; extra == \"tfgpu\"->ckiptagger[gdown,tfgpu]) (50.3.2)\n",
            "Requirement already satisfied, skipping upgrade: werkzeug>=0.11.15 in /usr/local/lib/python3.6/dist-packages (from tensorboard<3,>=2.3.0->tensorflow-gpu>=1.13.1; extra == \"tfgpu\"->ckiptagger[gdown,tfgpu]) (1.0.1)\n",
            "Requirement already satisfied, skipping upgrade: google-auth-oauthlib<0.5,>=0.4.1 in /usr/local/lib/python3.6/dist-packages (from tensorboard<3,>=2.3.0->tensorflow-gpu>=1.13.1; extra == \"tfgpu\"->ckiptagger[gdown,tfgpu]) (0.4.2)\n",
            "Requirement already satisfied, skipping upgrade: markdown>=2.6.8 in /usr/local/lib/python3.6/dist-packages (from tensorboard<3,>=2.3.0->tensorflow-gpu>=1.13.1; extra == \"tfgpu\"->ckiptagger[gdown,tfgpu]) (3.3.3)\n",
            "Requirement already satisfied, skipping upgrade: tensorboard-plugin-wit>=1.6.0 in /usr/local/lib/python3.6/dist-packages (from tensorboard<3,>=2.3.0->tensorflow-gpu>=1.13.1; extra == \"tfgpu\"->ckiptagger[gdown,tfgpu]) (1.7.0)\n",
            "Requirement already satisfied, skipping upgrade: google-auth<2,>=1.6.3 in /usr/local/lib/python3.6/dist-packages (from tensorboard<3,>=2.3.0->tensorflow-gpu>=1.13.1; extra == \"tfgpu\"->ckiptagger[gdown,tfgpu]) (1.17.2)\n",
            "Requirement already satisfied, skipping upgrade: requests-oauthlib>=0.7.0 in /usr/local/lib/python3.6/dist-packages (from google-auth-oauthlib<0.5,>=0.4.1->tensorboard<3,>=2.3.0->tensorflow-gpu>=1.13.1; extra == \"tfgpu\"->ckiptagger[gdown,tfgpu]) (1.3.0)\n",
            "Requirement already satisfied, skipping upgrade: importlib-metadata; python_version < \"3.8\" in /usr/local/lib/python3.6/dist-packages (from markdown>=2.6.8->tensorboard<3,>=2.3.0->tensorflow-gpu>=1.13.1; extra == \"tfgpu\"->ckiptagger[gdown,tfgpu]) (2.0.0)\n",
            "Requirement already satisfied, skipping upgrade: rsa<5,>=3.1.4; python_version >= \"3\" in /usr/local/lib/python3.6/dist-packages (from google-auth<2,>=1.6.3->tensorboard<3,>=2.3.0->tensorflow-gpu>=1.13.1; extra == \"tfgpu\"->ckiptagger[gdown,tfgpu]) (4.6)\n",
            "Requirement already satisfied, skipping upgrade: pyasn1-modules>=0.2.1 in /usr/local/lib/python3.6/dist-packages (from google-auth<2,>=1.6.3->tensorboard<3,>=2.3.0->tensorflow-gpu>=1.13.1; extra == \"tfgpu\"->ckiptagger[gdown,tfgpu]) (0.2.8)\n",
            "Requirement already satisfied, skipping upgrade: cachetools<5.0,>=2.0.0 in /usr/local/lib/python3.6/dist-packages (from google-auth<2,>=1.6.3->tensorboard<3,>=2.3.0->tensorflow-gpu>=1.13.1; extra == \"tfgpu\"->ckiptagger[gdown,tfgpu]) (4.1.1)\n",
            "Requirement already satisfied, skipping upgrade: oauthlib>=3.0.0 in /usr/local/lib/python3.6/dist-packages (from requests-oauthlib>=0.7.0->google-auth-oauthlib<0.5,>=0.4.1->tensorboard<3,>=2.3.0->tensorflow-gpu>=1.13.1; extra == \"tfgpu\"->ckiptagger[gdown,tfgpu]) (3.1.0)\n",
            "Requirement already satisfied, skipping upgrade: zipp>=0.5 in /usr/local/lib/python3.6/dist-packages (from importlib-metadata; python_version < \"3.8\"->markdown>=2.6.8->tensorboard<3,>=2.3.0->tensorflow-gpu>=1.13.1; extra == \"tfgpu\"->ckiptagger[gdown,tfgpu]) (3.4.0)\n",
            "Requirement already satisfied, skipping upgrade: pyasn1>=0.1.3 in /usr/local/lib/python3.6/dist-packages (from rsa<5,>=3.1.4; python_version >= \"3\"->google-auth<2,>=1.6.3->tensorboard<3,>=2.3.0->tensorflow-gpu>=1.13.1; extra == \"tfgpu\"->ckiptagger[gdown,tfgpu]) (0.4.8)\n",
            "Installing collected packages: tensorflow-gpu, ckiptagger\n",
            "Successfully installed ckiptagger-0.2.1 tensorflow-gpu-2.3.1\n"
          ],
          "name": "stdout"
        }
      ]
    },
    {
      "cell_type": "code",
      "metadata": {
        "scrolled": true,
        "colab": {
          "base_uri": "https://localhost:8080/"
        },
        "id": "oKzq2g8x_2k_",
        "outputId": "331eaaf5-ab59-4b51-e9e8-8961e0500955"
      },
      "source": [
        "from ckiptagger import data_utils, WS\n",
        "data_utils.download_data_gdown(\"./\")"
      ],
      "execution_count": 2,
      "outputs": [
        {
          "output_type": "stream",
          "text": [
            "Downloading...\n",
            "From: https://drive.google.com/uc?id=1efHsY16pxK0lBD2gYCgCTnv1Swstq771\n",
            "To: /content/data.zip\n",
            "1.88GB [00:39, 47.6MB/s]\n"
          ],
          "name": "stderr"
        }
      ]
    },
    {
      "cell_type": "code",
      "metadata": {
        "colab": {
          "base_uri": "https://localhost:8080/"
        },
        "id": "pkKhWX3d_2k_",
        "outputId": "93bb485d-755e-4995-a3df-d39a0c9565cf"
      },
      "source": [
        "#建構斷詞\n",
        "from ckiptagger import data_utils, WS,POS,NER\n",
        "\n",
        "ws = WS(\"./data\")\n",
        "pos = POS(\"./data\")\n",
        "ner = NER(\"./data\")\n",
        "\n",
        "input_string = sentence_list = [\n",
        "    \"傅達仁今將執行安樂死，卻突然爆出自己20年前遭緯來體育台封殺，他不懂自己哪裡得罪到電視台。\",\n",
        "    \"美國參議院針對今天總統布什所提名的勞工部長趙小蘭展開認可聽證會，預料她將會很順利通過參議院支持，成為該國有史以來第一位的華裔女性內閣成員。\",\n",
        "    \"\",\n",
        "    \"土地公有政策?？還是土地婆有政策。.\",\n",
        "    \"… 你確定嗎… 不要再騙了……\",\n",
        "    \"最多容納59,000個人,或5.9萬人,再多就不行了.這是環評的結論.\",\n",
        "    \"科長說:1,坪數對人數為1:3。2,可以再增加。\",\n",
        "]\n",
        "#斷詞\n",
        "word_s = ws(\n",
        "    input_string,\n",
        "    sentence_segmentation = True, # To consider delimiters\n",
        "    segment_delimiter_set = {\",\", \"。\", \":\", \"?\", \"!\", \";\"}) # This is the defualt set of delimiters\n",
        "print(word_s,'\\n')\n",
        "#詞性標注\n",
        "word_p = pos(word_sentence_list)\n",
        "print(word_p,'\\n')\n",
        "#命名實體識別\n",
        "word_n = ner(word_sentence_list, pos_sentence_list)\n",
        "print(word_n)"
      ],
      "execution_count": 12,
      "outputs": [
        {
          "output_type": "stream",
          "text": [
            "[['傅達仁', '今', '將', '執行', '安樂死', '，', '卻', '突然', '爆出', '自己', '20', '年', '前', '遭', '緯來', '體育台', '封殺', '，', '他', '不', '懂', '自己', '哪裡', '得罪到', '電視台', '。'], ['美國', '參議院', '針對', '今天', '總統', '布什', '所', '提名', '的', '勞工部長', '趙小蘭', '展開', '認可', '聽證會', '，', '預料', '她', '將', '會', '很', '順利', '通過', '參議院', '支持', '，', '成為', '該', '國', '有史以來', '第一', '位', '的', '華裔', '女性', '內閣', '成員', '。'], [], ['土地公', '有', '政策', '?', '？', '還是', '土地', '婆', '有', '政策', '。', '.'], ['…', ' ', '你', '確定', '嗎', '…', ' ', '不要', '再', '騙', '了', '…', '…'], ['最多', '容納', '59', ',', '000', '個', '人', ',', '或', '5.9萬', '人', ',', '再', '多', '就', '不行', '了', '.', '這', '是', '環評', '的', '結論', '.'], ['科長', '說', ':', '1', ',', '坪數', '對', '人數', '為', '1', ':', '3', '。', '2', ',', '可以', '再', '增加', '。']] \n",
            "\n",
            "[['Nb', 'Nd', 'D', 'VC', 'Na', 'COMMACATEGORY', 'D', 'D', 'VJ', 'Nh', 'Neu', 'Nf', 'Ng', 'P', 'Nb', 'Na', 'VC', 'COMMACATEGORY', 'Nh', 'D', 'VK', 'Nh', 'Ncd', 'VJ', 'Nc', 'PERIODCATEGORY'], ['Nc', 'Nc', 'P', 'Nd', 'Na', 'Nb', 'D', 'VC', 'DE', 'Na', 'Nb', 'VC', 'VC', 'Na', 'COMMACATEGORY', 'VE', 'Nh', 'D', 'D', 'Dfa', 'VH', 'VC', 'Nc', 'VC', 'COMMACATEGORY', 'VG', 'Nes', 'Nc', 'D', 'Neu', 'Nf', 'DE', 'Na', 'Na', 'Na', 'Na', 'PERIODCATEGORY'], [], ['Nb', 'V_2', 'Na', 'QUESTIONCATEGORY', 'QUESTIONCATEGORY', 'Caa', 'Na', 'Na', 'V_2', 'Na', 'PERIODCATEGORY', 'PERIODCATEGORY'], ['ETCCATEGORY', 'WHITESPACE', 'Nh', 'VK', 'T', 'ETCCATEGORY', 'WHITESPACE', 'D', 'D', 'VC', 'Di', 'ETCCATEGORY', 'ETCCATEGORY'], ['VH', 'VJ', 'Neu', 'COMMACATEGORY', 'Neu', 'Nf', 'Na', 'COMMACATEGORY', 'Caa', 'Neu', 'Na', 'COMMACATEGORY', 'D', 'D', 'D', 'VH', 'T', 'PERIODCATEGORY', 'Nep', 'SHI', 'Na', 'DE', 'Na', 'PERIODCATEGORY'], ['Na', 'VE', 'COLONCATEGORY', 'Neu', 'COMMACATEGORY', 'Na', 'P', 'Na', 'VG', 'Neu', 'COLONCATEGORY', 'Neu', 'PERIODCATEGORY', 'Neu', 'COMMACATEGORY', 'D', 'D', 'VHC', 'PERIODCATEGORY']] \n",
            "\n",
            "[{(18, 22, 'DATE', '20年前'), (23, 28, 'ORG', '緯來體育台'), (0, 3, 'PERSON', '傅達仁')}, {(17, 21, 'ORG', '勞工部長'), (21, 24, 'PERSON', '趙小蘭'), (56, 58, 'ORDINAL', '第一'), (42, 45, 'ORG', '參議院'), (60, 62, 'NORP', '華裔'), (0, 2, 'GPE', '美國'), (7, 9, 'DATE', '今天'), (11, 13, 'PERSON', '布什'), (2, 5, 'ORG', '參議院')}, set(), {(0, 3, 'PERSON', '土地公')}, set(), {(14, 18, 'CARDINAL', '5.9萬'), (4, 6, 'CARDINAL', '59'), (7, 10, 'CARDINAL', '000')}, {(14, 15, 'CARDINAL', '3'), (4, 5, 'CARDINAL', '1'), (16, 17, 'CARDINAL', '2'), (12, 13, 'CARDINAL', '1')}]\n"
          ],
          "name": "stdout"
        }
      ]
    },
    {
      "cell_type": "code",
      "metadata": {
        "colab": {
          "base_uri": "https://localhost:8080/"
        },
        "id": "sFZ1-3p3DeK6",
        "outputId": "de059728-79cb-4a0a-bb78-f39c5dd8a196"
      },
      "source": [
        "#合併顯示輸出結果\n",
        "def combine_wandp(word_s, word_p):\n",
        "    assert len(word_s) == len(word_p)\n",
        "    \n",
        "    return ([*zip(word_s,word_p)])\n",
        "        \n",
        "for i, sentence in enumerate(sentence_list):\n",
        "    print(f'Input sentence: \\n {sentence}')\n",
        "    print('\\n')\n",
        "    \n",
        "    print(f'Segmentation with PoS: \\n')\n",
        "    for j,k in combine_wandp(word_s[i], word_p[i]):\n",
        "      print(f\"{j}({k})\", end='  ')\n",
        "    \n",
        "    print ('\\n')\n",
        "    print('Named Entity Recognition:')\n",
        "    for n in sorted(word_n[i]):\n",
        "        print (n)\n",
        "    print ('\\n')\n"
      ],
      "execution_count": 20,
      "outputs": [
        {
          "output_type": "stream",
          "text": [
            "Input sentence: \n",
            " 傅達仁今將執行安樂死，卻突然爆出自己20年前遭緯來體育台封殺，他不懂自己哪裡得罪到電視台。\n",
            "\n",
            "\n",
            "Segmentation with PoS: \n",
            "\n",
            "傅達仁(Nb)  今(Nd)  將(D)  執行(VC)  安樂死(Na)  ，(COMMACATEGORY)  卻(D)  突然(D)  爆出(VJ)  自己(Nh)  20(Neu)  年(Nf)  前(Ng)  遭(P)  緯來(Nb)  體育台(Na)  封殺(VC)  ，(COMMACATEGORY)  他(Nh)  不(D)  懂(VK)  自己(Nh)  哪裡(Ncd)  得罪到(VJ)  電視台(Nc)  。(PERIODCATEGORY)  \n",
            "\n",
            "Named Entity Recognition:\n",
            "(0, 3, 'PERSON', '傅達仁')\n",
            "(18, 22, 'DATE', '20年前')\n",
            "(23, 28, 'ORG', '緯來體育台')\n",
            "\n",
            "\n",
            "Input sentence: \n",
            " 美國參議院針對今天總統布什所提名的勞工部長趙小蘭展開認可聽證會，預料她將會很順利通過參議院支持，成為該國有史以來第一位的華裔女性內閣成員。\n",
            "\n",
            "\n",
            "Segmentation with PoS: \n",
            "\n",
            "美國(Nc)  參議院(Nc)  針對(P)  今天(Nd)  總統(Na)  布什(Nb)  所(D)  提名(VC)  的(DE)  勞工部長(Na)  趙小蘭(Nb)  展開(VC)  認可(VC)  聽證會(Na)  ，(COMMACATEGORY)  預料(VE)  她(Nh)  將(D)  會(D)  很(Dfa)  順利(VH)  通過(VC)  參議院(Nc)  支持(VC)  ，(COMMACATEGORY)  成為(VG)  該(Nes)  國(Nc)  有史以來(D)  第一(Neu)  位(Nf)  的(DE)  華裔(Na)  女性(Na)  內閣(Na)  成員(Na)  。(PERIODCATEGORY)  \n",
            "\n",
            "Named Entity Recognition:\n",
            "(0, 2, 'GPE', '美國')\n",
            "(2, 5, 'ORG', '參議院')\n",
            "(7, 9, 'DATE', '今天')\n",
            "(11, 13, 'PERSON', '布什')\n",
            "(17, 21, 'ORG', '勞工部長')\n",
            "(21, 24, 'PERSON', '趙小蘭')\n",
            "(42, 45, 'ORG', '參議院')\n",
            "(56, 58, 'ORDINAL', '第一')\n",
            "(60, 62, 'NORP', '華裔')\n",
            "\n",
            "\n",
            "Input sentence: \n",
            " \n",
            "\n",
            "\n",
            "Segmentation with PoS: \n",
            "\n",
            "\n",
            "\n",
            "Named Entity Recognition:\n",
            "\n",
            "\n",
            "Input sentence: \n",
            " 土地公有政策?？還是土地婆有政策。.\n",
            "\n",
            "\n",
            "Segmentation with PoS: \n",
            "\n",
            "土地公(Nb)  有(V_2)  政策(Na)  ?(QUESTIONCATEGORY)  ？(QUESTIONCATEGORY)  還是(Caa)  土地(Na)  婆(Na)  有(V_2)  政策(Na)  。(PERIODCATEGORY)  .(PERIODCATEGORY)  \n",
            "\n",
            "Named Entity Recognition:\n",
            "(0, 3, 'PERSON', '土地公')\n",
            "\n",
            "\n",
            "Input sentence: \n",
            " … 你確定嗎… 不要再騙了……\n",
            "\n",
            "\n",
            "Segmentation with PoS: \n",
            "\n",
            "…(ETCCATEGORY)   (WHITESPACE)  你(Nh)  確定(VK)  嗎(T)  …(ETCCATEGORY)   (WHITESPACE)  不要(D)  再(D)  騙(VC)  了(Di)  …(ETCCATEGORY)  …(ETCCATEGORY)  \n",
            "\n",
            "Named Entity Recognition:\n",
            "\n",
            "\n",
            "Input sentence: \n",
            " 最多容納59,000個人,或5.9萬人,再多就不行了.這是環評的結論.\n",
            "\n",
            "\n",
            "Segmentation with PoS: \n",
            "\n",
            "最多(VH)  容納(VJ)  59(Neu)  ,(COMMACATEGORY)  000(Neu)  個(Nf)  人(Na)  ,(COMMACATEGORY)  或(Caa)  5.9萬(Neu)  人(Na)  ,(COMMACATEGORY)  再(D)  多(D)  就(D)  不行(VH)  了(T)  .(PERIODCATEGORY)  這(Nep)  是(SHI)  環評(Na)  的(DE)  結論(Na)  .(PERIODCATEGORY)  \n",
            "\n",
            "Named Entity Recognition:\n",
            "(4, 6, 'CARDINAL', '59')\n",
            "(7, 10, 'CARDINAL', '000')\n",
            "(14, 18, 'CARDINAL', '5.9萬')\n",
            "\n",
            "\n",
            "Input sentence: \n",
            " 科長說:1,坪數對人數為1:3。2,可以再增加。\n",
            "\n",
            "\n",
            "Segmentation with PoS: \n",
            "\n",
            "科長(Na)  說(VE)  :(COLONCATEGORY)  1(Neu)  ,(COMMACATEGORY)  坪數(Na)  對(P)  人數(Na)  為(VG)  1(Neu)  :(COLONCATEGORY)  3(Neu)  。(PERIODCATEGORY)  2(Neu)  ,(COMMACATEGORY)  可以(D)  再(D)  增加(VHC)  。(PERIODCATEGORY)  \n",
            "\n",
            "Named Entity Recognition:\n",
            "(4, 5, 'CARDINAL', '1')\n",
            "(12, 13, 'CARDINAL', '1')\n",
            "(14, 15, 'CARDINAL', '3')\n",
            "(16, 17, 'CARDINAL', '2')\n",
            "\n",
            "\n"
          ],
          "name": "stdout"
        }
      ]
    },
    {
      "cell_type": "code",
      "metadata": {
        "id": "Hew2IcAj_2lC"
      },
      "source": [
        "from ckiptagger import construct_dictionary\n",
        "\n",
        "word_to_weight = {\"年前\": 1}\n",
        "dictionary = construct_dictionary(word_to_weight)"
      ],
      "execution_count": 21,
      "outputs": []
    },
    {
      "cell_type": "markdown",
      "metadata": {
        "id": "0ikPzpNkHuj8"
      },
      "source": [
        "### 帶入自定義字典\n",
        "\n",
        "觀察上面的輸出發現，斷詞結果將`年前`斷為`年`、`前`, 請使用自定義字典使斷詞結果依然維持為`年前`"
      ]
    },
    {
      "cell_type": "code",
      "metadata": {
        "colab": {
          "base_uri": "https://localhost:8080/"
        },
        "id": "j1Hq9XCk_2lC",
        "outputId": "d86eb75c-ad30-4259-de88-491cdf1ab60f"
      },
      "source": [
        "input_traditional_str = ['小明碩士畢業於國立臺灣大學，現在在日本東京大學進修深造']\n",
        "word_sentence_list = ws(input_traditional_str, recommend_dictionary=dictionary)\n",
        "print(word_sentence_list)\n"
      ],
      "execution_count": 7,
      "outputs": [
        {
          "output_type": "stream",
          "text": [
            "[['小明', '碩士', '畢業', '於', '國立', '臺灣', '大學', '，', '現在', '在', '日本東京大學', '進修', '深造']]\n"
          ],
          "name": "stdout"
        }
      ]
    },
    {
      "cell_type": "code",
      "metadata": {
        "colab": {
          "base_uri": "https://localhost:8080/"
        },
        "id": "YnFxlc44_2lC",
        "outputId": "939f80f6-ccbe-46a6-f652-4b4e768f195f"
      },
      "source": [
        "from ckiptagger import construct_dictionary\n",
        "\n",
        "#定義字典\n",
        "word_to_weight = {\"年前\": 1}\n",
        "dictionary = construct_dictionary(word_to_weight)\n",
        "\n",
        "#帶入自定義字典進行斷詞\n",
        "ws = WS(\"./data\") #建構斷詞\n",
        "\n",
        "input_traditional_str = [\"傅達仁今將執行安樂死，卻突然爆出自己20年前遭緯來體育台封殺，他不懂自己哪裡得罪到電視台。\"]\n",
        "\n",
        "word_sentence_list = ws(input_traditional_str, recommend_dictionary=dictionary)\n",
        "print(word_sentence_list)\n"
      ],
      "execution_count": 23,
      "outputs": [
        {
          "output_type": "stream",
          "text": [
            "[['傅達仁', '今', '將', '執行', '安樂死', '，', '卻', '突然', '爆出', '自己', '20', '年前', '遭', '緯來', '體育台', '封殺', '，', '他', '不', '懂', '自己', '哪裡', '得罪到', '電視台', '。']]\n"
          ],
          "name": "stdout"
        }
      ]
    }
  ]
}